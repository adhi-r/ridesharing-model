{
 "cells": [
  {
   "cell_type": "code",
   "execution_count": 14,
   "metadata": {
    "collapsed": false
   },
   "outputs": [],
   "source": [
    "import matplotlib.pyplot as plt\n",
    "%matplotlib inline\n",
    "import random \n",
    "import numpy as np\n",
    "from IPython.display import display, clear_output\n",
    "import time\n",
    "import math"
   ]
  },
  {
   "cell_type": "code",
   "execution_count": 15,
   "metadata": {
    "collapsed": true
   },
   "outputs": [],
   "source": [
    "class driver():\n",
    "    \"\"\"Creates a driver capable of picking up riders and taking them to their destination. Drivers may only have 1 rider at a\n",
    "    time. \"\"\"\n",
    "    \n",
    "    def __init__(self, x_dim, y_dim):\n",
    "        \"\"\"Defines a driver whose default location is randomly located within the dimensions of the world and who hasn't been\n",
    "        hired and doesn't have a rider in their vehicle.\"\"\"\n",
    "        self.location = [np.random.randint(0,x_dim), np.random.randint(0,y_dim)]\n",
    "        self.has_rider = False   # True when rider is in their car\n",
    "        self.my_rider = \"None\"   # Corresponds to rider from when the rider selects the driver until they've been dropped off.\n",
    "        \n",
    "    def move(self):\n",
    "        \"\"\"If the driver has a job, this moves the driver one position closer to their destination or picks up the rider. \n",
    "        (If they haven't picked up the rider yet, then their destination is the rider's location. If they \n",
    "        have picked up the rider, then their destination is the rider's destination.) The driver first will move right/left, and\n",
    "        then up/down. (Note: Drivers do not pick up or drop off their passenger and move in the same iteration (i.e. Drivers will\n",
    "        spend one iteration obtaining their rider.))\n",
    "        \"\"\"\n",
    "\n",
    "        if self.my_rider != \"None\":       \n",
    "            if self.has_rider == False:\n",
    "                if self.location[0] < self.my_rider.location[0]:\n",
    "                    self.location[0] += 1\n",
    "                elif self.location[0] > self.my_rider.location[0]:\n",
    "                    self.location[0] -= 1\n",
    "                else:\n",
    "                    if self.location[1] < self.my_rider.location[1]:\n",
    "                        self.location[1] += 1\n",
    "                    elif self.location[1] > self.my_rider.location[1]:\n",
    "                        self.location[1] -= 1\n",
    "                    else:\n",
    "                        self.has_rider = True\n",
    "            elif self.has_rider == True:\n",
    "                if self.location[0] < self.my_rider.destination[0]:\n",
    "                    self.location[0] += 1\n",
    "                    self.my_rider.location[0] += 1\n",
    "                elif self.location[0] > self.my_rider.destination[0]:\n",
    "                    self.location[0] -= 1\n",
    "                    self.my_rider.location[0] -= 1\n",
    "                else:\n",
    "                    if self.location[1] < self.my_rider.destination[1]:\n",
    "                        self.location[1] += 1\n",
    "                        self.my_rider.location[1] += 1\n",
    "                    elif self.location[1] > self.my_rider.destination[1]:\n",
    "                        self.location[1] -= 1\n",
    "                        self.my_rider.location[1] -= 1                                          \n",
    "        \n",
    "    def draw(self):\n",
    "        \"\"\"Plots the driver green if they have a rider, red if they don't have a rider.\"\"\"\n",
    "        color = 'r'\n",
    "        if (self.has_rider == True):\n",
    "            color = 'g'\n",
    "        plt.scatter(self.location[0], self.location[1], s = 80, color=color);\n",
    "        "
   ]
  },
  {
   "cell_type": "code",
   "execution_count": 16,
   "metadata": {
    "collapsed": false
   },
   "outputs": [],
   "source": [
    "class rider():\n",
    "    \"\"\"Creates a driver capable of picking up riders and taking them to their destination. Drivers may only have 1 rider at a\n",
    "    time. Once assigned to a rider, a driver will their rider directly to their destination immediately.\"\"\"\n",
    "    \n",
    "    def __init__(self, x_dim, y_dim):\n",
    "        \"\"\"Defines a rider whose default location is randomly located within the dimensions of the world, who has a\n",
    "        destination at another location, and who has no driver.\"\"\"    \n",
    "        self.location = [np.random.randint(0,x_dim), np.random.randint(0,y_dim)]\n",
    "        self.destination = [np.random.randint(0,x_dim), np.random.randint(0,y_dim)]\n",
    "        # Prevents the possibility that the location and destination are the same\n",
    "        while self.destination == self.location: \n",
    "            self.destination = [self.x_dest, self.y_dest]\n",
    "        self.wait_time = 0    # amount of time rider waits after driver has been selected until they're picked up\n",
    "        self.ride_time = 0    # amount of interations it takes to be driven to the destination\n",
    "        \n",
    "        \n",
    "    def closest_available_driver(self, available_drivers):\n",
    "        \"\"\" Uses a a list of available drivers to calculate the distance between the rider and all available drivers and assigns\n",
    "        the closest driver the following rider. Returns the closest driver and their location.\"\"\"\n",
    "        \n",
    "        # Creates a list of driver locations.\n",
    "        driver_locations = []\n",
    "        for d in available_drivers:\n",
    "            driver_locations.append(d.location)\n",
    "            \n",
    "        # Determines the nearest driver's location.\n",
    "        shortest_dist = 99999\n",
    "        for l in driver_locations:\n",
    "            dist = math.sqrt( (l[0] - self.location[0])**2 + (l[1] - self.location[1])**2 )\n",
    "            if dist < shortest_dist:\n",
    "                shortest_dist = dist\n",
    "                nearest_driver_location = l\n",
    "        \n",
    "        # Determines the nearest driver.\n",
    "        for d in available_drivers:\n",
    "            if d.location == nearest_driver_location:\n",
    "                nearest_driver = d\n",
    "                \n",
    "        return nearest_driver, nearest_driver_location\n",
    "    \n",
    "    def draw(self):\n",
    "        \"\"\"Plots the rider yellow.\"\"\"\n",
    "        plt.scatter(self.location[0], self.location[1], s = 80, color='y')\n",
    "    "
   ]
  },
  {
   "cell_type": "code",
   "execution_count": 19,
   "metadata": {
    "collapsed": false
   },
   "outputs": [],
   "source": [
    "def run(num_drivers = 2, rider_spawn_prob = 0.2, x_dim = 70, y_dim = 30, iterations = 100, vis = True):\n",
    "    \"\"\"Creates a world of size x_dim by y_dim with the specified number of drivers (red points) and if vis = True runs a \n",
    "    simulation in which riders (yellow points) and their destinations (red splotches) spawn according to the given rider spawn\n",
    "    probability, riders select the closest driver, and said driver picks up the rider and drops them off at their destination.\n",
    "    Returns a list of wait and ride times for the riders that were transported to their destination.\"\"\"\n",
    "    \n",
    "    # Initializes an empty array for the world and sets the animation dimensions\n",
    "    world = np.zeros((x_dim,y_dim))\n",
    "    if vis == True:\n",
    "        fig, ax = plt.subplots(figsize=(30,15));\n",
    "    \n",
    "    # Creates a list of drivers and available drivers\n",
    "    drivers = [driver(x_dim,y_dim) for a in range(0,num_drivers)]\n",
    "    available_drivers = []\n",
    "    for d in drivers:\n",
    "        available_drivers.append(d)\n",
    "    \n",
    "    # Creates an empty list for riders, rider wait times, and rider ride times\n",
    "    riders = []\n",
    "    rider_wait_times = []\n",
    "    rider_ride_times = []\n",
    "    \n",
    "    \n",
    "    iterations_ran = 0\n",
    "    \n",
    "    while iterations_ran < iterations:\n",
    "        \n",
    "        if rider_spawn_prob > random.random():\n",
    "            \n",
    "            # A new rider & their destination spawn\n",
    "            new_rider = rider(x_dim,y_dim)   \n",
    "            riders.append(new_rider)\n",
    "            world[tuple(new_rider.destination)] = 15\n",
    "            \n",
    "            # Assigns the closest available driver to the rider, if there is an available driver.\n",
    "            if available_drivers != []:\n",
    "                closest_driver, closest_driver_location = new_rider.closest_available_driver(available_drivers)\n",
    "                closest_driver.my_rider = new_rider\n",
    "                available_drivers.remove(closest_driver)\n",
    "            else:\n",
    "                print(\"No available driver. A rider may not have been assigned\")\n",
    "                \n",
    "            \"\"\"***The above block is a problem since it makes it so that if there isn't an available driver, the rider will \n",
    "            never get assigned to a driver.\"\"\"\n",
    "        \n",
    "        # For each driver, if they have a job they move one step closer towards their destination.\n",
    "        for d in drivers: \n",
    "            d.move()  \n",
    "            \n",
    "        # For each rider, adds 1 to their wait time if they're waiting or 1 to their ride time if they're being driven.\n",
    "        for d in drivers:\n",
    "            if d.my_rider != \"None\":\n",
    "                if d.has_rider == False:\n",
    "                    d.my_rider.wait_time += 1\n",
    "                else:\n",
    "                    d.my_rider.ride_time += 1\n",
    "        \n",
    "        # If a driver has the rider and is at their destination, drop the rider off and remove them from the animation.\n",
    "        for d in drivers:\n",
    "            if d.my_rider != \"None\":\n",
    "                if d.my_rider.destination == d.location:\n",
    "                    # Record wait and ride times to lists\n",
    "                    rider_wait_times.append(d.my_rider.wait_time)\n",
    "                    rider_ride_times.append(d.my_rider.ride_time)\n",
    "                    # Driver drops rider off and remove them from the animation\n",
    "                    riders.remove(d.my_rider)\n",
    "                    world[tuple(d.my_rider.destination)] = 0\n",
    "                    d.has_rider = False\n",
    "                    d.my_rider = \"None\"\n",
    "                    available_drivers.append(d)\n",
    "                    \n",
    "        iterations_ran += 1\n",
    "        \n",
    "        if vis == True:\n",
    "            # Plots the world\n",
    "            plt.imshow(world.T, origin='lower', aspect='equal');\n",
    "            for r in range(0,len(riders)):\n",
    "                riders[r].draw()\n",
    "            for d in range(0,num_drivers):\n",
    "                drivers[d].draw()\n",
    "\n",
    "            # Allows animation\n",
    "            clear_output(wait=True) # Clear output for dynamic display\n",
    "            display(fig)            # Reset display\n",
    "            fig.clear()             # Prevent overlapping and layered plots\n",
    "            time.sleep(0.0001)      # Sleep for a fraction of a second to allow animation to catch up\n",
    "            \n",
    "    return rider_wait_times, rider_ride_times\n",
    "    "
   ]
  },
  {
   "cell_type": "markdown",
   "metadata": {},
   "source": [
    "Red Points: Drivers without passenger  \n",
    "Green Points: Drivers with passenger  \n",
    "Yellow Points: Passenger waiting to be picked up  \n",
    "Red Splotches: Passenger destination"
   ]
  },
  {
   "cell_type": "code",
   "execution_count": null,
   "metadata": {
    "collapsed": false
   },
   "outputs": [
    {
     "data": {
      "image/png": "[encoded data removed]",
      "text/plain": [
       "<matplotlib.figure.Figure at 0x7fc45736b6d8>"
      ]
     },
     "metadata": {},
     "output_type": "display_data"
    }
   ],
   "source": [
    "wait_times, ride_times = run(num_drivers = 20)"
   ]
  },
  {
   "cell_type": "code",
   "execution_count": 42,
   "metadata": {
    "collapsed": false
   },
   "outputs": [
    {
     "name": "stdout",
     "output_type": "stream",
     "text": [
      "[8, 2, 7, 7, 10, 8, 10, 11, 11, 10, 7, 4]\n",
      "[5, 36, 41, 15, 33, 51, 35, 39, 29, 55, 12, 41]\n"
     ]
    }
   ],
   "source": [
    "print(wait_times)\n",
    "print(ride_times)"
   ]
  },
  {
   "cell_type": "markdown",
   "metadata": {},
   "source": [
    "***Extra Ideas***\n",
    "\n",
    "-Would it be nice to compare the costs of having drivers being able to change the rider that they're moving towards for a more efficient system?    \n",
    "    \n",
    "-Try using nearest neighbor algorithm to speed up driver selection of rider\n",
    "\n",
    "-It may make sense to create an additional list of only the visible riders (i.e. those that aren't being driven). Currently drivers are just drawn over their riders."
   ]
  }
 ],
 "metadata": {
  "kernelspec": {
   "display_name": "Python 3",
   "language": "python",
   "name": "python3"
  },
  "language_info": {
   "codemirror_mode": {
    "name": "ipython",
    "version": 3
   },
   "file_extension": ".py",
   "mimetype": "text/x-python",
   "name": "python",
   "nbconvert_exporter": "python",
   "pygments_lexer": "ipython3",
   "version": "3.5.1"
  }
 },
 "nbformat": 4,
 "nbformat_minor": 0
}
