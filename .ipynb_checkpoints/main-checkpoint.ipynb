{
 "cells": [
  {
   "cell_type": "code",
   "execution_count": 44,
   "metadata": {
    "collapsed": false
   },
   "outputs": [],
   "source": [
    "import matplotlib.pyplot as plt\n",
    "%matplotlib inline\n",
    "import random \n",
    "import numpy as np\n",
    "from IPython.display import display, clear_output\n",
    "import time\n",
    "from sklearn.neighbors import NearestNeighbors"
   ]
  },
  {
   "cell_type": "code",
   "execution_count": 45,
   "metadata": {
    "collapsed": true
   },
   "outputs": [],
   "source": [
    "class driver():\n",
    "    \"\"\"Creates a driver capable of picking up riders and taking them to their destination. Drivers may only have 1 rider at a\n",
    "    time. \"\"\"\n",
    "    \n",
    "    def __init__(self, x_dim, y_dim):\n",
    "        \"\"\"Defines a driver whose default location is randomly located within the dimensions of the world and who hasn't been\n",
    "        hired and doesn't have a rider in their vehicle.\"\"\"\n",
    "        self.x = np.random.randint(0,x_dim)\n",
    "        self.y = np.random.randint(0,y_dim)\n",
    "        self.location = (self.x, self.y)\n",
    "        self.has_job = False     # True from when the rider selects the driver until they've been dropped off\n",
    "        self.has_rider = False   # True when rider is in their car\n",
    "        \n",
    "    def move(self):\n",
    "        \"\"\"Moves driver one position closer to their destination.\"\"\"\n",
    "        # Pull from Katrina's code/\"11_OOP-in_class_assignment\"\n",
    "        pass\n",
    "        \n",
    "    def draw(self):\n",
    "        \"\"\"Plots the driver green if they have a rider, red if they don't have a rider.\"\"\"\n",
    "        color = 'r'\n",
    "        if (self.has_rider == True):\n",
    "            color = 'g'\n",
    "        plt.scatter(self.x, self.y, color=color)\n",
    "        "
   ]
  },
  {
   "cell_type": "code",
   "execution_count": 46,
   "metadata": {
    "collapsed": true
   },
   "outputs": [],
   "source": [
    "class rider():\n",
    "    \"\"\"Creates a driver capable of picking up riders and taking them to their destination. Drivers may only have 1 rider at a\n",
    "    time. Once assigned to a rider, a driver will their rider directly to their destination immediately.\"\"\"\n",
    "    \n",
    "    def __init__(self, x_dim, y_dim):\n",
    "        \"\"\"Defines a rider whose default location is randomly located within the dimensions of the world, who has a\n",
    "        destination at another location, and who has no driver.\"\"\"\n",
    "        self.x = np.random.randint(0,x_dim)\n",
    "        self.y = np.random.randint(0,y_dim)      \n",
    "        self.location = (self.x, self.y)\n",
    "        self.x_dest = np.random.randint(0,x_dim)\n",
    "        self.y_dest = np.random.randint(0,y_dim)  \n",
    "        self.destination = (self.x_dest, self.y_dest)\n",
    "        self.my_driver = \"None\"\n",
    "        # Still need to prevent possibility of location and destination being the same\n",
    "        \n",
    "    def closest_available_driver(drivers_lst, K):\n",
    "        \"\"\" Calculates the distance between the rider and all available drivers, and then returns the K closest driver(s).\"\"\"\n",
    "        nbrs = NearestNeighbors(n_neighbors=(K+1), algorithm='ball_tree').fit(towers) # `K+1` because first neighbor is itself - Adhi\n",
    "        distances, indices = nbrs.kneighbors(drivers_lst)\n",
    "        return indicies\n",
    "    \n",
    "    def draw(self):\n",
    "        \"\"\"Plots the rider yellow.\"\"\"\n",
    "        color = 'y'\n",
    "        plt.scatter(self.x, self.y, color=color)\n",
    "    "
   ]
  },
  {
   "cell_type": "code",
   "execution_count": 51,
   "metadata": {
    "collapsed": false
   },
   "outputs": [],
   "source": [
    "def run(num_drivers = 2, rider_spawn_prob = 0.1, x_dim = 70, y_dim = 30, iterations = 100):\n",
    "    \"\"\"Creates a world of size x_dim by y_dim with the specified number of drivers (red points) and runs a simulation in which\n",
    "    riders (yellow points) and their destinations (red splotches) spawn according to the given rider spawn probability, riders\n",
    "    select the closest driver, and said driver picks up the rider and drops them off at their destination.\"\"\"\n",
    "    \n",
    "    # Initializes an empty array for the world\n",
    "    world = np.zeros((x_dim,y_dim))\n",
    "    \n",
    "    # Creates a list of drivers\n",
    "    drivers = [driver(x_dim,y_dim) for a in range(0,num_drivers)]\n",
    "    \n",
    "    # Create an empty list for riders\n",
    "    riders = []\n",
    "    \n",
    "    \n",
    "    iterations_ran = 0\n",
    "    \n",
    "    while iterations_ran < iterations:\n",
    "        \n",
    "        if rider_spawn_prob > random.random():\n",
    "            \n",
    "            # A new rider & their destination spawn\n",
    "            new_rider = rider(x_dim,y_dim)   \n",
    "            riders.append(new_rider)\n",
    "            destination = np.random.randint(0,x_dim), np.random.randint(0,y_dim)\n",
    "            world[destination] = 15\n",
    "            \n",
    "            # Assigns the closest available driver to the rider. (Can change the number of nearest drivers here.)\n",
    "            closest_driver = new_rider.closest_available_driver(drivers, 1)\n",
    "            #new_rider.my_driver() = closest_driver\n",
    "            #closest_driver.has_job() = True\n",
    "            \n",
    "            # ...\n",
    "        \n",
    "        # For each driver, if they have a job move towards their destination.\n",
    "        for d in drivers:\n",
    "            if d.has_job == True:\n",
    "                pass\n",
    "        \n",
    "        iterations_ran += 1\n",
    "        \n",
    "        \n",
    "        # Plots world\n",
    "        fig, ax = plt.subplots(figsize=(30,15))\n",
    "        plt.imshow(world.T, origin='lower', aspect='equal')\n",
    "        for d in range(0,num_drivers):\n",
    "            drivers[d].draw()\n",
    "        for r in range(0,len(riders)):\n",
    "            riders[r].draw()\n",
    "\n",
    "        # Allows animation\n",
    "        clear_output(wait=True) # Clear output for dynamic display\n",
    "        display(fig)            # Reset display\n",
    "        fig.clear()             # Prevent overlapping and layered plots\n",
    "        time.sleep(0.0001)      # Sleep for a fraction of a second to allow animation to catch up\n",
    "    "
   ]
  },
  {
   "cell_type": "code",
   "execution_count": 52,
   "metadata": {
    "collapsed": false
   },
   "outputs": [
    {
     "data": {
      "image/png": "[encoded data removed]",
      "text/plain": [
       "<matplotlib.figure.Figure at 0x7f2e8e7d0828>"
      ]
     },
     "metadata": {},
     "output_type": "display_data"
    },
    {
     "ename": "TypeError",
     "evalue": "closest_available_driver() takes 2 positional arguments but 3 were given",
     "output_type": "error",
     "traceback": [
      "\u001b[1;31m---------------------------------------------------------------------------\u001b[0m",
      "\u001b[1;31mTypeError\u001b[0m                                 Traceback (most recent call last)",
      "\u001b[1;32m<ipython-input-52-1a176ae34927>\u001b[0m in \u001b[0;36m<module>\u001b[1;34m()\u001b[0m\n\u001b[1;32m----> 1\u001b[1;33m \u001b[0mrun\u001b[0m\u001b[1;33m(\u001b[0m\u001b[0mnum_drivers\u001b[0m \u001b[1;33m=\u001b[0m \u001b[1;36m5\u001b[0m\u001b[1;33m)\u001b[0m\u001b[1;33m\u001b[0m\u001b[0m\n\u001b[0m\u001b[0;32m      2\u001b[0m \u001b[1;31m# drivers = red points, riders = yellow points, & destinations = red splotches\u001b[0m\u001b[1;33m\u001b[0m\u001b[1;33m\u001b[0m\u001b[0m\n\u001b[0;32m      3\u001b[0m \u001b[1;31m# Figure out why simulation prints \"<matplotlib.figure.Figure at 0x7f2e8d2eff28>\" below and get rid of it\u001b[0m\u001b[1;33m\u001b[0m\u001b[1;33m\u001b[0m\u001b[0m\n",
      "\u001b[1;32m<ipython-input-51-dc7496e80535>\u001b[0m in \u001b[0;36mrun\u001b[1;34m(num_drivers, rider_spawn_prob, x_dim, y_dim, iterations)\u001b[0m\n\u001b[0;32m     27\u001b[0m \u001b[1;33m\u001b[0m\u001b[0m\n\u001b[0;32m     28\u001b[0m             \u001b[1;31m# Assigns the closest available driver to the rider. (Can change the number of nearest drivers here.)\u001b[0m\u001b[1;33m\u001b[0m\u001b[1;33m\u001b[0m\u001b[0m\n\u001b[1;32m---> 29\u001b[1;33m             \u001b[0mclosest_driver\u001b[0m \u001b[1;33m=\u001b[0m \u001b[0mnew_rider\u001b[0m\u001b[1;33m.\u001b[0m\u001b[0mclosest_available_driver\u001b[0m\u001b[1;33m(\u001b[0m\u001b[0mdrivers\u001b[0m\u001b[1;33m,\u001b[0m \u001b[1;36m1\u001b[0m\u001b[1;33m)\u001b[0m\u001b[1;33m\u001b[0m\u001b[0m\n\u001b[0m\u001b[0;32m     30\u001b[0m             \u001b[1;31m#new_rider.my_driver() = closest_driver\u001b[0m\u001b[1;33m\u001b[0m\u001b[1;33m\u001b[0m\u001b[0m\n\u001b[0;32m     31\u001b[0m             \u001b[1;31m#closest_driver.has_job() = True\u001b[0m\u001b[1;33m\u001b[0m\u001b[1;33m\u001b[0m\u001b[0m\n",
      "\u001b[1;31mTypeError\u001b[0m: closest_available_driver() takes 2 positional arguments but 3 were given"
     ]
    },
    {
     "data": {
      "text/plain": [
       "<matplotlib.figure.Figure at 0x7f2e815bd898>"
      ]
     },
     "metadata": {},
     "output_type": "display_data"
    },
    {
     "data": {
      "text/plain": [
       "<matplotlib.figure.Figure at 0x7f2e8e7842b0>"
      ]
     },
     "metadata": {},
     "output_type": "display_data"
    },
    {
     "data": {
      "text/plain": [
       "<matplotlib.figure.Figure at 0x7f2e8a09cba8>"
      ]
     },
     "metadata": {},
     "output_type": "display_data"
    },
    {
     "data": {
      "text/plain": [
       "<matplotlib.figure.Figure at 0x7f2e8d32a668>"
      ]
     },
     "metadata": {},
     "output_type": "display_data"
    },
    {
     "data": {
      "text/plain": [
       "<matplotlib.figure.Figure at 0x7f2e8e7d0828>"
      ]
     },
     "metadata": {},
     "output_type": "display_data"
    }
   ],
   "source": [
    "run(num_drivers = 5)\n",
    "# drivers = red points, riders = yellow points, & destinations = red splotches \n",
    "# Figure out why simulation prints \"<matplotlib.figure.Figure at 0x7f2e8d2eff28>\" below and get rid of it"
   ]
  },
  {
   "cell_type": "code",
   "execution_count": null,
   "metadata": {
    "collapsed": false
   },
   "outputs": [],
   "source": []
  },
  {
   "cell_type": "code",
   "execution_count": null,
   "metadata": {
    "collapsed": true
   },
   "outputs": [],
   "source": []
  },
  {
   "cell_type": "markdown",
   "metadata": {},
   "source": [
    "***Extra Ideas***\n",
    "\n",
    "-Idea for how to organize riders & destinations\n",
    "    # Initializes an empty dictionary of riders and their destinations (with the form rider:destination).\n",
    "    riders_dict = dict()\n",
    "    \n",
    "    for i in range(0,num_riders):\n",
    "        new_rider = np.random.randint(0,x_dim), np.random.randint(0,y_dim)\n",
    "        new_destination = np.random.randint(0,x_dim), np.random.randint(0,y_dim)\n",
    "    \n",
    "    \n",
    "-Try using nearest neighbor algorithm to speed up driver selection of rider\n",
    "\n",
    "-It may make sense to create an additional list of only the visible riders (i.e. those that aren't being driven). Also, remember later to remove riders that have been dropped off from the riders list so they aren't plotted!\n",
    "\n",
    "-Consider making the visualization a separate function (that can be turned on or off (so that you can collect data faster)."
   ]
  },
  {
   "cell_type": "markdown",
   "metadata": {},
   "source": [
    "MO:\n",
    "- Spawn drivers\n",
    "- Iteratively,\n",
    "   - Rider may or may not spawn\n",
    "   - When rider spawns, \n",
    "       - Calculate distances between rider and each available driver.\n",
    "       - Determine closest driver\n",
    "       - Set the closest driver's destination to the rider's location. (Once assigned to a rider, a driver will take their rider \n",
    "         directly to their destination immediately.) \n",
    "       - Each driver travels towards their rider's location (if they have a job) or stays put\n",
    "       - ...\n",
    "   - \n",
    "   \n",
    "   Wait time = amount of time rider waits after driver has been selected\n",
    "   drive time = amount of interations it takes to get to the destination"
   ]
  },
  {
   "cell_type": "code",
   "execution_count": null,
   "metadata": {
    "collapsed": true
   },
   "outputs": [],
   "source": []
  }
 ],
 "metadata": {
  "kernelspec": {
   "display_name": "Python 3",
   "language": "python",
   "name": "python3"
  },
  "language_info": {
   "codemirror_mode": {
    "name": "ipython",
    "version": 3
   },
   "file_extension": ".py",
   "mimetype": "text/x-python",
   "name": "python",
   "nbconvert_exporter": "python",
   "pygments_lexer": "ipython3",
   "version": "3.5.1"
  }
 },
 "nbformat": 4,
 "nbformat_minor": 0
}
