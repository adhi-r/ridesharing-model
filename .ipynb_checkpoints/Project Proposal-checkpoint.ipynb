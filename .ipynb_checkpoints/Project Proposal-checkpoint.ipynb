{
 "cells": [
  {
   "cell_type": "markdown",
   "metadata": {},
   "source": [
    "## Project Proposal: Uber Simulation\n",
    "\n",
    "### By Mackenzie Dubay, Katrina Gensterblum, Adhi Rajaprabhakaran"
   ]
  },
  {
   "cell_type": "markdown",
   "metadata": {},
   "source": [
    "### Project Description\n",
    "\n",
    "Our goal is to create a basic agent based model simulating the operations of Uber in a city. It would include two types of agents, drivers and passengers, each with their own prescribed behavior. For example, as a passenger requests a ride, nearby drivers will be notified, and one will decide to pick that passenger up and take the passenger to her location. The logic behind deciding which driver picks up which passenger is where this will become interesting.\n",
    "\n",
    "We also plan to use this model as grounds for experimentation, collecting statistics such as wait time, ride time and ride distance, and adjusting parameters such as number of riders, number of drivers, ride cost, and inter-rider proximity to see how these changes will affect statistical outcomes."
   ]
  },
  {
   "cell_type": "markdown",
   "metadata": {},
   "source": [
    "### Existing Work and References\n",
    "\n",
    "We will be modeling this off the service Uber as an app provides, so our knowledge as users of the service will help. Our coverage of ABM topics in class will be heavily used. The ant model serves for a good project to draw inspiration from."
   ]
  },
  {
   "cell_type": "markdown",
   "metadata": {},
   "source": [
    "### Hypotheses and questions being asked of the model\n",
    "\n",
    "* How will an increase in demand for rides (i.e. more riders appearing) affect wait time and ride fares?\n",
    "\n",
    "* How will an increase in riders affect wait time and ride fares?\n",
    "\n",
    "* *If time allows*:\n",
    "    * How will the implemenation of a feature like UberPOOL (collaborative ridesharing) affect wait time and ride fares?\n",
    "    * How will the implementation of driver attrition (such as having to fill up for gas) change the behavior?"
   ]
  },
  {
   "cell_type": "markdown",
   "metadata": {},
   "source": [
    "### Distribution of Work by Group Members\n",
    "\n",
    "We suspect that this is subject to change as we work on and better understand the nuances and constraints of our objective, so we can't be sure for now.\n",
    "\n",
    "Adhi is specifically interested in the data collection and statistical testing of parameters in the model, so he may undertake that portion (among others).\n",
    "\n",
    "Katrina:\n",
    "\n",
    "Mackenzie: "
   ]
  },
  {
   "cell_type": "markdown",
   "metadata": {},
   "source": [
    "### Expected Outcomes\n",
    "\n",
    "We suspect that given our model is functional and bug-free, the outcomes should reflect reality.\n",
    "\n",
    "* An increase in rider demand with all other variables held constant should result in an increase of rider wait times, and rider fares.\n",
    "\n",
    "* An increase in drivers with all other variables held constant should result in a decrease of rider wait times and rider fares.\n",
    "\n",
    "* Rider fares can be thought of as an approximation of Price in the economic Supply and Demand model.\n",
    "\n",
    "We think that there is significant potential to use Agent Based Modeling techniques create a realistic model of our reality, and to predict the effects of environmental conditions. This can serve to be very useful in anticipating and optimizing business operations, for example. There is a lot of potential to continue building on the model given enough time, and even to model the effect of new features of the Uber app (such as UberPOOL, UberEATS, etx.)"
   ]
  }
 ],
 "metadata": {
  "kernelspec": {
   "display_name": "Python 3",
   "language": "python",
   "name": "python3"
  },
  "language_info": {
   "codemirror_mode": {
    "name": "ipython",
    "version": 3
   },
   "file_extension": ".py",
   "mimetype": "text/x-python",
   "name": "python",
   "nbconvert_exporter": "python",
   "pygments_lexer": "ipython3",
   "version": "3.5.1"
  }
 },
 "nbformat": 4,
 "nbformat_minor": 0
}
