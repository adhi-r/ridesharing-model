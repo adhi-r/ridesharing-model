{
 "cells": [
  {
   "cell_type": "markdown",
   "metadata": {},
   "source": [
    "# Modeling Ridesharing Conditions Using ABM and OOP\n",
    "\n",
    "#### By: MacKenzie Dubay, Katrina Gensterblum, Adhi Rajaprabhakaran"
   ]
  },
  {
   "cell_type": "markdown",
   "metadata": {},
   "source": [
    "## _Outline_\n",
    "\n",
    "### 1. Motivation  \n",
    "* The idea, its inspiration, and its practical uses.  \n",
    "\n",
    "### 2. Objectives  \n",
    "* What we set out to accomplish with this model.  \n",
    "\n",
    "### 3. The Model  \n",
    "* How we used Agent Base Modeling and OOP to create a flexible model of Uber's operations.   \n",
    "\n",
    "### 4. The Experiments  \n",
    "* Varying Passengers\n",
    "* Varying Drivers  \n",
    "------"
   ]
  },
  {
   "cell_type": "markdown",
   "metadata": {},
   "source": [
    "## Motivation\n",
    "\n",
    "  Our project is about applying modeling techniques learned in class to a approximate a real life scenario. Our scenario is the operations of a ridesharing service. Ridesharing services refer to apps like Uber and Lyft, where one can use the app to request a ride from one point to another. Naturally, one of the key attributes of the product is user experience and convenience, so as to incline users to use the service more often. \n",
    "  \n",
    "  Arguably the most important quantifiable figures to this end are the cost of the ride and the time taken, both in getting picked up and in getting to the destination. In both metrics, lower is better for more usage, and the metric we chose to target is wait time, and how it can vary as the conditions of the real world vary.\n",
    "\n",
    "  The idea was inspired by Kevin Novak, MSU Alumnus and Head of Data Science at Uber Technologies Inc., and the talk he gave here at MSU. In his talk, he covered how Uber would gain insights from its data from operations and use them to improve the product. Since we don't have the actual data of Uber's rides to query, we can't actually work to solve the optimization problems that Uber themselves work on. What we can do, though, is make our own data with our own model, and run experiments on the model observe the effect of different conditions. \n",
    "  \n",
    "  Our solution is a very simplified version of the real world, so it won't actually predict what exactly will happen. What the experimentation will allow us to do is to observe the relationships between hypothetical conditions and outcomes, and extrapolate these observations to the real world."
   ]
  },
  {
   "cell_type": "markdown",
   "metadata": {},
   "source": [
    "## Objectives\n",
    "\n",
    "Our first objective was to design and implement a simulation of Uber's ridesharing service. We wanted to utilize programming and modeling techniques learned in class to make the model flexible and easy to iterate upon should we want to add features and conduct different experiments.\n",
    "\n",
    "Secondly, we set out to apply experimental procedures to observe the effect of varying conditions on the behavior outcomes of the model. "
   ]
  },
  {
   "cell_type": "markdown",
   "metadata": {},
   "source": [
    "## The Model\n",
    "\n",
    "Ridesharing is the act of a driver with his or her own car picking up a passenger (or group of passengers) and taking the passenger to his or her destination in exchange for a fare charge. At any given time in any given area, there may be some arbritary numbers of drivers looking to get a fare and passengers. Every unique driver will be picking up their own unique passenger who has their own unique destination. Thus, this objective is well-suited to Agent Based Modeling (ABM) via Object Oriented Programming. We treated each driver and each passenger as its own agent using `class` objects, a technique that was introduced to us in class in the Ant Crawling Model.\n",
    "\n",
    "The `class` objects for the Rider and Driver agent can be found in `UberModel.py`. Let's take a look at them."
   ]
  },
  {
   "cell_type": "markdown",
   "metadata": {},
   "source": [
    "### The Driver"
   ]
  },
  {
   "cell_type": "code",
   "execution_count": 10,
   "metadata": {
    "collapsed": false
   },
   "outputs": [
    {
     "data": {
      "text/plain": [
       "['draw', 'move']"
      ]
     },
     "execution_count": 10,
     "metadata": {},
     "output_type": "execute_result"
    }
   ],
   "source": [
    "from UberModel import driver\n",
    "# list functions here, or below idk\n",
    "dir(driver)[-2:]"
   ]
  },
  {
   "cell_type": "markdown",
   "metadata": {},
   "source": [
    "#### **`driver.move()`:**  \n",
    "The `move` function contains the logic for how a driver will either reach a waiting rider or take a rider to her destination. The driver gets the pickup location and destination by pulling it from the rider object. It moves by incrementing the objects position in the array by one in an appropriate direction every iteration. \n",
    "\n",
    "#### **`driver.draw()`:**  \n",
    "The `draw` function simply adds the driver's new location as a scatterplot dot on the output graph after every iteration using `x` and `y` coordinates."
   ]
  },
  {
   "cell_type": "markdown",
   "metadata": {},
   "source": [
    "### The Rider"
   ]
  },
  {
   "cell_type": "code",
   "execution_count": 12,
   "metadata": {
    "collapsed": false
   },
   "outputs": [
    {
     "data": {
      "text/plain": [
       "['closest_available_driver', 'draw']"
      ]
     },
     "execution_count": 12,
     "metadata": {},
     "output_type": "execute_result"
    }
   ],
   "source": [
    "from UberModel import rider\n",
    "# list functions here, or below idk\n",
    "dir(rider)[-2:]"
   ]
  },
  {
   "cell_type": "markdown",
   "metadata": {},
   "source": [
    "#### **`rider.closest_available_driver()`:**  \n",
    "Something something something.\n",
    "#### **`rider.draw()`:**  \n"
   ]
  },
  {
   "cell_type": "markdown",
   "metadata": {},
   "source": [
    "### The Run Function"
   ]
  },
  {
   "cell_type": "code",
   "execution_count": 13,
   "metadata": {
    "collapsed": true
   },
   "outputs": [],
   "source": [
    "from UberModel import run"
   ]
  },
  {
   "cell_type": "markdown",
   "metadata": {},
   "source": [
    "#### **`UberModel.run()`:** . \n",
    "The function `run` creates a world of size `x_dim` by `y_dim` with the specified number of drivers (red points) and if `vis = True` it runs a simulation with a visualization in which riders (yellow points) and their destinations (red splotches) spawn according to the given rider spawn probability, riders select the closest driver, and said driver picks up the rider and drops them off at their destination. Returns a the number of dropouts, and a list of wait times and ride times for the riders that were transported to their destination.\n",
    "\n",
    "An example of a visualization of one run of the model is as follows:"
   ]
  },
  {
   "cell_type": "code",
   "execution_count": 17,
   "metadata": {
    "collapsed": false
   },
   "outputs": [
    {
     "data": {
      "image/png": "[encoded data removed]",
      "text/plain": [
       "<matplotlib.figure.Figure at 0x7f131a8ae7f0>"
      ]
     },
     "metadata": {},
     "output_type": "display_data"
    },
    {
     "data": {
      "text/plain": [
       "([29, 21, 55], [8, 25, 32], 12)"
      ]
     },
     "execution_count": 17,
     "metadata": {},
     "output_type": "execute_result"
    },
    {
     "data": {
      "text/plain": [
       "<matplotlib.figure.Figure at 0x7f131a8ae7f0>"
      ]
     },
     "metadata": {},
     "output_type": "display_data"
    }
   ],
   "source": [
    "#actually run one example of the model with animation\n",
    "import UberModel\n",
    "%matplotlib inline\n",
    "run(num_drivers = 2, rider_spawn_prob = 0.2, x_dim = 70, y_dim = 30, iterations = 100, vis = True)"
   ]
  },
  {
   "cell_type": "markdown",
   "metadata": {},
   "source": [
    "## The Experiments"
   ]
  },
  {
   "cell_type": "markdown",
   "metadata": {},
   "source": [
    "Due to the flexibility afforded to us by our OOP approach, we can easily run more than one experiment. In the first experiment, we will hold the amount of drivers constant and vary the probability a passenger will spawn as a proxy of 'busyness'. So the indpendent variable will be the busyness, and the dependent variables will be both wait time and ride time. In the second, we will hold the busyness constant and vary the amount of drivers available to serve. Here, the dependent variables stay the same but the independent variable will be the drivers. We think that observing the relationships between these variables will provide some rudimentary insight into how the real world works."
   ]
  },
  {
   "cell_type": "markdown",
   "metadata": {},
   "source": [
    "### Experimental procedure\n",
    "\n",
    "To combat confounding variables such as randomness, we will be iterating every model 500 increments to allow for a sufficient progression of the model to average out inconsistencies. Driver spawn points are chosen in the beginning and new drivers do not spawn, so the spacing of the initial spawn point may have a significant. So, for each step in the variation we will run the model 5 times to account for the randomness of driver spawn points.\n",
    "\n",
    "What follows is a generalized function for conducting experiments with this model. The default parameters are borrowed from the default parameters of `run()`. The new parameters, something, something, and something, will give the experimenter the ability to quickly and easily adjust the parameters of the experiment."
   ]
  },
  {
   "cell_type": "markdown",
   "metadata": {},
   "source": [
    "### The Experiment Function"
   ]
  },
  {
   "cell_type": "code",
   "execution_count": 18,
   "metadata": {
    "collapsed": true
   },
   "outputs": [],
   "source": [
    "from UberModel import experiment"
   ]
  },
  {
   "cell_type": "markdown",
   "metadata": {},
   "source": [
    "The `experiment` function conducts the experiment of the given parameters on the UberModel, and returns the data of the experiment in a form that makes analysis and plotting easy.\n",
    "\n",
    "From the parameters of the experiment function, the experimenter can choose the independent variable of the experiment and the values of the independent variable tested. It also allows the experimenter to adjust the parameters of the `run()` function by passing the respective parameters in to be inherited by `run()`.\n",
    "\n",
    "When the experimenter sets `independent_variable = 'driver'` the function will then check to see if the users inputs for `IV_vals = []` make sense - the values must be positive integers as having partial or negative drivers is impossible. It then utilizes a `for` loop iterating over each value of `IV_vals` and collecting the "
   ]
  },
  {
   "cell_type": "code",
   "execution_count": 5,
   "metadata": {
    "collapsed": false
   },
   "outputs": [],
   "source": [
    "import matplotlib.pyplot as plt\n",
    "%matplotlib inline\n",
    "import random \n",
    "import numpy as np\n",
    "from IPython.display import display, clear_output\n",
    "import time\n",
    "import math\n",
    "\n",
    "def experiment(independent_variable = '', IV_vals = [], x_dim = 70, y_dim = 30, iterations = 100, vis = False):\n",
    "    '''\n",
    "    Conducts the experiment of the given parameters on the UberModel, and returns the data of the experiment\n",
    "    in a form that makes analysis and plotting easy.\n",
    "    \n",
    "    The last six parameters are default parameters borrowed from the `run()` function and are passed \n",
    "    into the `run()` within the experiment. The default values are the same, save for `vis` which is \n",
    "    set to `False` by default to expedite the experiment.\n",
    "    \n",
    "    `independent_variable` must be a string, either \"rider\" or \"driver\".\n",
    "    \n",
    "    `IV_vals` must be a list of the tested values of the independent variable. For drivers this must\n",
    "    be a list of integers. For riders it must be a list of values greater than 0 and less than 1.'''\n",
    "    \n",
    "    wait_times_per_IV = []\n",
    "    ride_times_per_IV = []\n",
    "    \n",
    "    wait_times_per_run = []\n",
    "    ride_times_per_run = []\n",
    "    \n",
    "    # Check which experiment to do\n",
    "    if to.lower(str(independent_variable)) == 'driver':\n",
    "        \n",
    "        # Check if independent values make sense\n",
    "        if False in [x % 1 == 0 for x in IV_vals]:\n",
    "            raise ValueError('You are testing quantity of drivers, so only use integers in IV_vals.')\n",
    "            \n",
    "        # Run the model over each value of the independent variable list           \n",
    "        for val in IV_vals:\n",
    "            w, r = run(num_drivers = val, x_dim = x_dim, y_dim = y_dim, iterations = iterations, vis = vis)\n",
    "            \n",
    "            # Averaging the wait times of every rider in the run\n",
    "            avg_w = sum(w)/len(w)\n",
    "            avg_r = sum(r)/len(r)\n",
    "            \n",
    "            wait_times_per_run.append(avg_w)\n",
    "            ride_times_per_run.append(avg_r)\n",
    "                              \n",
    "    if to.lower(str(independent_variable)) == 'rider':\n",
    "        \n",
    "        # Check if independent values make sense\n",
    "        if False in [x > 1 or x <= 0 for x in IV_vals]:\n",
    "            raise ValueError('You are testing probability of rider spawn, so please only use floats between 0 and 1.')\n",
    "            \n",
    "        # Run the model over each value of the independent variable list           \n",
    "        for val in IV_vals:\n",
    "            w, r = run(rider_spawn_prob = val, x_dim = x_dim, y_dim = y_dim, iterations = iterations, vis = vis)\n",
    "            \n",
    "            # Averaging the wait times of every rider in the run\n",
    "            avg_w = sum(w)/len(w)\n",
    "            avg_r = sum(r)/len(r)\n",
    "            \n",
    "            wait_times_per_run.append(avg_w)\n",
    "            ride_times_per_run.append(avg_r)\n",
    "            \n",
    "    # Averaging the average wait times of every rider of every run to get a value that corresponds with the IV\n",
    "    wait_times_per_IV.append(sum(wait_times_per_run)/len(wait_times_per_run))\n",
    "    run_times_per_IV.append(sum(run_times_per_run)/len(run_times_per_run))\n",
    "    \n",
    "    return IV_vals, wait_times_per_IV, run_times_per_IV"
   ]
  },
  {
   "cell_type": "markdown",
   "metadata": {},
   "source": [
    "### Experiment 1: Varying busyness\n",
    "\n",
    "**Parameters of the experiment:**  \n",
    "* Independent Variable:  \n",
    "    * The **probability a rider spawns** on an iteration of the model, as a proxy of 'busyness'.  \n",
    "* Dependent Variables:  \n",
    "    * Rider wait time measured in iterations, as a proxy for minutes elapsed  \n",
    "    * Rider ride time measured likewise.\n",
    "* Controlled:  \n",
    "    * Number of drivers  \n",
    "    * Driver behavior  \n",
    "    * Rider behavior  \n",
    "    * Board size"
   ]
  },
  {
   "cell_type": "markdown",
   "metadata": {
    "collapsed": true
   },
   "source": [
    "### Experiment 2: Varying driver availibility\n",
    "\n",
    "**Parameters of the experiment:**  \n",
    "* Independent Variable:  \n",
    "    * The **number of drivers** active from the beginning to the end of a run. \n",
    "* Dependent Variables:  \n",
    "    * Rider wait time measured in iterations, as a proxy for minutes elapsed.  \n",
    "    * Rider ride time measured likewise.\n",
    "* Controlled:  \n",
    "    * Number of drivers  \n",
    "    * Driver behavior  \n",
    "    * Rider behavior  \n",
    "    * Board size"
   ]
  },
  {
   "cell_type": "code",
   "execution_count": null,
   "metadata": {
    "collapsed": true
   },
   "outputs": [],
   "source": []
  },
  {
   "cell_type": "code",
   "execution_count": null,
   "metadata": {
    "collapsed": true
   },
   "outputs": [],
   "source": []
  }
 ],
 "metadata": {
  "kernelspec": {
   "display_name": "Python 3",
   "language": "python",
   "name": "python3"
  },
  "language_info": {
   "codemirror_mode": {
    "name": "ipython",
    "version": 3
   },
   "file_extension": ".py",
   "mimetype": "text/x-python",
   "name": "python",
   "nbconvert_exporter": "python",
   "pygments_lexer": "ipython3",
   "version": "3.5.1"
  }
 },
 "nbformat": 4,
 "nbformat_minor": 0
}
