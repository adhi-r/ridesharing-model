{
 "cells": [
  {
   "cell_type": "code",
   "execution_count": 6,
   "metadata": {
    "collapsed": true
   },
   "outputs": [],
   "source": [
    "import matplotlib.pyplot as plt\n",
    "%matplotlib inline\n",
    "import random \n",
    "import numpy as np\n",
    "from IPython.display import display, clear_output\n",
    "import time"
   ]
  },
  {
   "cell_type": "code",
   "execution_count": 1,
   "metadata": {
    "collapsed": true
   },
   "outputs": [],
   "source": [
    "class rider():\n",
    "    def __init__(self, x_dim, y_dim):\n",
    "        self.location = (x_dim, y_dim)\n",
    "        self.destination = ()\n",
    "        \n",
    "    def find_closest_available_driver():\n",
    "        \"\"\"\n",
    "        When the rider spawns, it calculates the distance between him and all drivers without a passenger,\n",
    "        and then chooses the closest one.\n",
    "        \"\"\"\n",
    "        \n",
    "    def give_driver_pickup_location():\n",
    "        \"\"\" \"\"\"\n",
    "        \n",
    "    def give_driver_destination():\n",
    "        \"\"\"\n",
    "        When the driver reaches the rider for pick up, tell the driver the rider's destination\n",
    "        (might be better suited as a function in driver class)\n",
    "        \"\"\"\n",
    "        \n",
    "    def measure_wait_time():\n",
    "        \"\"\"\n",
    "        Storing a value that starts at 0 and is incremented in every iteration. \n",
    "        Not keeping track of actual time, iterations as a proxy for time. (Keeps track of how many iterations the rider is \n",
    "        waiting for.)\n",
    "        \"\"\"\n",
    "    \n",
    "    def measure_ride_time():\n",
    "        \"\"\"\n",
    "        Same as wait time, but measuring pick-up to drop-off.\n",
    "        \"\"\""
   ]
  },
  {
   "cell_type": "code",
   "execution_count": 2,
   "metadata": {
    "collapsed": true
   },
   "outputs": [],
   "source": [
    "class driver():\n",
    "    \"\"\"Creates a driver capable of picking up riders and taking them to their destination. Drivers may only have 1 rider at a\n",
    "    time and drive their rider directly to their destination immediately.\"\"\"\n",
    "    def __init__(self, x_dim, y_dim):\n",
    "        \"\"\"Defines a driver whose default location is randomly located within the dimensions of the world and who doesn't\n",
    "        have a rider.\"\"\"\n",
    "        self.x = np.random.randint(0,x_dim)\n",
    "        self.y = np.random.randint(0,y_dim)\n",
    "        self.has_rider = False\n",
    "        \n",
    "    def move(self, rider, x_dim, y_dim, destination, chosen_rider = 0, closest=False):\n",
    "        \"\"\"\"\"\"\n",
    "        \n",
    "        \"If ???, ???\"\n",
    "        if closest == True:\n",
    "            self.drive_rider(destination = chosen_rider)\n",
    "        \n",
    "        \"If the driver has a rider, ???. Otherwise, search for a rider.\"\n",
    "        if self.has_rider == True:\n",
    "            self.drive_rider(destination=destination)\n",
    "        else:\n",
    "            self.search_for_rider(x_dim, y_dim)\n",
    "        \n",
    "        \"???\"\n",
    "        if rider[self.x, self.y] > 0:\n",
    "            rider[self.x, self.y] -= 10\n",
    "            self.has_rider = True\n",
    "    \n",
    "    def drive_rider(self, destination):\n",
    "        x = self.x\n",
    "        y = self.y\n",
    "        \n",
    "        if x == destination[0] and y == destination[1]:\n",
    "            has_rider = False;\n",
    "            return\n",
    "            \n",
    "        pick = np.zeros(x + y)\n",
    "        pick[0:x] = 1\n",
    "        if(np.random.choice(pick) == 1):\n",
    "            x = x - 1\n",
    "        else:\n",
    "            y = y - 1\n",
    "\n",
    "        if(x < 0):\n",
    "            x = 0\n",
    "        if(y < 0):\n",
    "            y = 0\n",
    "            \n",
    "        self.x = x\n",
    "        self.y = y\n",
    "        \n",
    "    def search_for_rider(self, x_dim, y_dim):\n",
    "        x = self.x\n",
    "        y = self.y\n",
    "        \n",
    "        directions = ['up', 'left', 'down', 'right']\n",
    "        #First check to see if there is a rider up and to the right.\n",
    "        g = [] #follow gradient\n",
    "        m  = [] \n",
    "        \n",
    "        distance = np.sqrt(self.x ** 2 + self.y ** 2)\n",
    "        \n",
    "\n",
    "        #pick a random direction.\n",
    "        grad = random.choice(directions)\n",
    "        \n",
    "\n",
    "        # move the driver\n",
    "        if(grad == 'up'):\n",
    "            y = y + 1\n",
    "        elif(grad == 'right'):\n",
    "            x = x + 1\n",
    "        elif(grad == 'down'):\n",
    "            y = y - 1\n",
    "        elif(grad == 'left'):\n",
    "            x = x - 1\n",
    "        else:\n",
    "            print(grad)\n",
    "            print(\"ERROR!!a!!!!!!!!!!\")\n",
    "\n",
    "        # Prevents driver from moving off the grid. \n",
    "        if(x < 0):\n",
    "            x = 0\n",
    "        if(y < 0):\n",
    "            y = 0\n",
    "        if(x > x_dim-1):\n",
    "            x = x_dim-1\n",
    "        if(y > y_dim-1):\n",
    "            y = y_dim-1\n",
    "        self.x = x\n",
    "        self.y = y\n",
    "        \n",
    "    \n",
    "        \n",
    "    def draw(self):\n",
    "        \"\"\"Plots the driver green if they have a rider, red if they don't.\"\"\"\n",
    "        color = 'r'\n",
    "        if (self.has_rider == True):\n",
    "            color = 'g'\n",
    "        plt.scatter(self.x, self.y, color=color)\n",
    "    "
   ]
  },
  {
   "cell_type": "code",
   "execution_count": 3,
   "metadata": {
    "collapsed": false
   },
   "outputs": [],
   "source": [
    "#x_dim = 70\n",
    "#y_dim = 30\n",
    "#num_drivers = 2\n",
    "#rider = np.zeros((70, 30))\n",
    "#x = np.random.randint(0,70)\n",
    "#y = np.random.randint(0,30)\n",
    "#rider[x, y] = 10\n",
    "#destination = [np.random.randint(0,70), np.random.randint(0,30)]\n",
    "#dist_new = ((destination[0]- x) ** 2 + (destination[1] - y ** 2)) ** .5\n",
    "#x = np.random.randint(0,x_dim)\n",
    "#if x == destination[0] and y == destination[1]:\n",
    "#    print(3)\n",
    "#close_driver = 0\n",
    "#drivers = [driver(x_dim,y_dim) for a in range(0,num_drivers)]\n",
    "\n",
    "#for a in drivers:\n",
    "    #close_driver = a\n",
    "#close_driver.move(rider = rider, x_dim=x_dim, y_dim=30, destination = destination)"
   ]
  },
  {
   "cell_type": "code",
   "execution_count": 4,
   "metadata": {
    "collapsed": false
   },
   "outputs": [],
   "source": [
    "def run(num_drivers = 2, num_riders = 1, x_dim = 70, y_dim = 30):\n",
    "    \"\"\"Creates a world of size x_dim by y_dim with the specified number of drivers and riders and runs a simulation in which\n",
    "    the drivers pick up riders and drop them off at their destinations.\"\"\"\n",
    "    \n",
    "    \n",
    "    \"\"\"Initializes an array for the riders and their destinations.\"\"\"\n",
    "    rider = np.zeros((x_dim,y_dim))\n",
    "\n",
    "    # Places the rider(s) and destination(s)\n",
    "    for i in range(num_riders):\n",
    "        r = np.random.randint(0,x_dim)\n",
    "        t = np.random.randint(0,y_dim)\n",
    "        rider[r, t] = 10\n",
    "        destination = np.random.randint(0,x_dim), np.random.randint(0,y_dim)\n",
    "        rider[destination] = 100\n",
    "    \n",
    "    # Creates a list of drivers.\n",
    "    drivers = [driver(x_dim,y_dim) for a in range(0,num_drivers)]\n",
    "\n",
    "    fig, ax = plt.subplots(figsize=(10,5))\n",
    "\n",
    "    #Main simulation loop\n",
    "    for i in range(0,100):\n",
    "        \n",
    "        #Assigns the driver closest to the rider as \"close_driver\"\n",
    "        dist = 10000\n",
    "        close_driver = 0\n",
    "        for a in drivers:\n",
    "            # Calculates \"dist\" the distance between the destination and the rider\n",
    "            dist_new = (((int(destination[0])- int(r)) ** 2) + ((int(destination[1]) - int(t)) ** 2)) ** .5           \n",
    "            if dist_new < dist:\n",
    "                dist = dist_new\n",
    "                close_driver = a\n",
    "                    \n",
    "        for a in drivers:\n",
    "            if a == close_driver:\n",
    "                a.move(rider = rider, x_dim=x_dim, y_dim=y_dim, destination=destination, chosen_rider = [r,t], closest = True)\n",
    "            else:\n",
    "                a.move(rider = rider, x_dim=x_dim, y_dim=y_dim, destination=destination)\n",
    "    \n",
    "\n",
    "        # Plots world\n",
    "        plt.imshow(rider.T, origin='lower', aspect='equal')\n",
    "        for a in range(0,num_drivers):\n",
    "            drivers[a].draw()\n",
    "\n",
    "        # Animaiton part (dosn't change)\n",
    "        clear_output(wait=True) # Clear output for dynamic display\n",
    "        display(fig)            # Reset display\n",
    "        fig.clear()             # Prevent overlapping and layered plots\n",
    "        time.sleep(0.0001)      # Sleep for a fraction of a second to allow animation to catch up\n"
   ]
  },
  {
   "cell_type": "code",
   "execution_count": 7,
   "metadata": {
    "collapsed": false,
    "scrolled": true
   },
   "outputs": [
    {
     "data": {
<<<<<<< HEAD
      "image/png": "iVBORw0KGgoAAAANSUhEUgAAAk0AAAELCAYAAADEE7K0AAAABHNCSVQICAgIfAhkiAAAAAlwSFlz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\nB47Ci2/VW4knAAAAAElFTkSuQmCC\n",
      "text/plain": [
       "<matplotlib.figure.Figure at 0x7fd11c09c400>"
=======
      "image/png": "iVBORw0KGgoAAAANSUhEUgAAAk0AAAELCAYAAADEE7K0AAAABHNCSVQICAgIfAhkiAAAAAlwSFlz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\nRU5ErkJggg==\n",
      "text/plain": [
       "<matplotlib.figure.Figure at 0x7fca70453be0>"
>>>>>>> experiments
      ]
     },
     "metadata": {},
     "output_type": "display_data"
    },
    {
     "ename": "ValueError",
     "evalue": "a must be non-empty",
     "output_type": "error",
     "traceback": [
      "\u001b[1;31m---------------------------------------------------------------------------\u001b[0m",
      "\u001b[1;31mValueError\u001b[0m                                Traceback (most recent call last)",
      "\u001b[1;32m<ipython-input-7-92ee9cc98b49>\u001b[0m in \u001b[0;36m<module>\u001b[1;34m()\u001b[0m\n\u001b[0;32m      1\u001b[0m \u001b[1;31m##Blue is destination, red is rider, bright red points are drivers##\u001b[0m\u001b[1;33m\u001b[0m\u001b[1;33m\u001b[0m\u001b[0m\n\u001b[1;32m----> 2\u001b[1;33m \u001b[0mrun\u001b[0m\u001b[1;33m(\u001b[0m\u001b[0mnum_drivers\u001b[0m \u001b[1;33m=\u001b[0m \u001b[1;36m2\u001b[0m\u001b[1;33m,\u001b[0m \u001b[0mnum_riders\u001b[0m \u001b[1;33m=\u001b[0m \u001b[1;36m3\u001b[0m\u001b[1;33m)\u001b[0m\u001b[1;33m\u001b[0m\u001b[0m\n\u001b[0m",
      "\u001b[1;32m<ipython-input-4-efb85ba903a6>\u001b[0m in \u001b[0;36mrun\u001b[1;34m(num_drivers, num_riders, x_dim, y_dim)\u001b[0m\n\u001b[0;32m     35\u001b[0m         \u001b[1;32mfor\u001b[0m \u001b[0ma\u001b[0m \u001b[1;32min\u001b[0m \u001b[0mdrivers\u001b[0m\u001b[1;33m:\u001b[0m\u001b[1;33m\u001b[0m\u001b[0m\n\u001b[0;32m     36\u001b[0m             \u001b[1;32mif\u001b[0m \u001b[0ma\u001b[0m \u001b[1;33m==\u001b[0m \u001b[0mclose_driver\u001b[0m\u001b[1;33m:\u001b[0m\u001b[1;33m\u001b[0m\u001b[0m\n\u001b[1;32m---> 37\u001b[1;33m                 \u001b[0ma\u001b[0m\u001b[1;33m.\u001b[0m\u001b[0mmove\u001b[0m\u001b[1;33m(\u001b[0m\u001b[0mrider\u001b[0m \u001b[1;33m=\u001b[0m \u001b[0mrider\u001b[0m\u001b[1;33m,\u001b[0m \u001b[0mx_dim\u001b[0m\u001b[1;33m=\u001b[0m\u001b[0mx_dim\u001b[0m\u001b[1;33m,\u001b[0m \u001b[0my_dim\u001b[0m\u001b[1;33m=\u001b[0m\u001b[0my_dim\u001b[0m\u001b[1;33m,\u001b[0m \u001b[0mdestination\u001b[0m\u001b[1;33m=\u001b[0m\u001b[0mdestination\u001b[0m\u001b[1;33m,\u001b[0m \u001b[0mchosen_rider\u001b[0m \u001b[1;33m=\u001b[0m \u001b[1;33m[\u001b[0m\u001b[0mr\u001b[0m\u001b[1;33m,\u001b[0m\u001b[0mt\u001b[0m\u001b[1;33m]\u001b[0m\u001b[1;33m,\u001b[0m \u001b[0mclosest\u001b[0m \u001b[1;33m=\u001b[0m \u001b[1;32mTrue\u001b[0m\u001b[1;33m)\u001b[0m\u001b[1;33m\u001b[0m\u001b[0m\n\u001b[0m\u001b[0;32m     38\u001b[0m             \u001b[1;32melse\u001b[0m\u001b[1;33m:\u001b[0m\u001b[1;33m\u001b[0m\u001b[0m\n\u001b[0;32m     39\u001b[0m                 \u001b[0ma\u001b[0m\u001b[1;33m.\u001b[0m\u001b[0mmove\u001b[0m\u001b[1;33m(\u001b[0m\u001b[0mrider\u001b[0m \u001b[1;33m=\u001b[0m \u001b[0mrider\u001b[0m\u001b[1;33m,\u001b[0m \u001b[0mx_dim\u001b[0m\u001b[1;33m=\u001b[0m\u001b[0mx_dim\u001b[0m\u001b[1;33m,\u001b[0m \u001b[0my_dim\u001b[0m\u001b[1;33m=\u001b[0m\u001b[0my_dim\u001b[0m\u001b[1;33m,\u001b[0m \u001b[0mdestination\u001b[0m\u001b[1;33m=\u001b[0m\u001b[0mdestination\u001b[0m\u001b[1;33m)\u001b[0m\u001b[1;33m\u001b[0m\u001b[0m\n",
      "\u001b[1;32m<ipython-input-2-f545119a3bb7>\u001b[0m in \u001b[0;36mmove\u001b[1;34m(self, rider, x_dim, y_dim, destination, chosen_rider, closest)\u001b[0m\n\u001b[0;32m     14\u001b[0m         \u001b[1;34m\"If ???, ???\"\u001b[0m\u001b[1;33m\u001b[0m\u001b[0m\n\u001b[0;32m     15\u001b[0m         \u001b[1;32mif\u001b[0m \u001b[0mclosest\u001b[0m \u001b[1;33m==\u001b[0m \u001b[1;32mTrue\u001b[0m\u001b[1;33m:\u001b[0m\u001b[1;33m\u001b[0m\u001b[0m\n\u001b[1;32m---> 16\u001b[1;33m             \u001b[0mself\u001b[0m\u001b[1;33m.\u001b[0m\u001b[0mdrive_rider\u001b[0m\u001b[1;33m(\u001b[0m\u001b[0mdestination\u001b[0m \u001b[1;33m=\u001b[0m \u001b[0mchosen_rider\u001b[0m\u001b[1;33m)\u001b[0m\u001b[1;33m\u001b[0m\u001b[0m\n\u001b[0m\u001b[0;32m     17\u001b[0m \u001b[1;33m\u001b[0m\u001b[0m\n\u001b[0;32m     18\u001b[0m         \u001b[1;34m\"If the driver has a rider, ???. Otherwise, search for a rider.\"\u001b[0m\u001b[1;33m\u001b[0m\u001b[0m\n",
      "\u001b[1;32m<ipython-input-2-f545119a3bb7>\u001b[0m in \u001b[0;36mdrive_rider\u001b[1;34m(self, destination)\u001b[0m\n\u001b[0;32m     37\u001b[0m         \u001b[0mpick\u001b[0m \u001b[1;33m=\u001b[0m \u001b[0mnp\u001b[0m\u001b[1;33m.\u001b[0m\u001b[0mzeros\u001b[0m\u001b[1;33m(\u001b[0m\u001b[0mx\u001b[0m \u001b[1;33m+\u001b[0m \u001b[0my\u001b[0m\u001b[1;33m)\u001b[0m\u001b[1;33m\u001b[0m\u001b[0m\n\u001b[0;32m     38\u001b[0m         \u001b[0mpick\u001b[0m\u001b[1;33m[\u001b[0m\u001b[1;36m0\u001b[0m\u001b[1;33m:\u001b[0m\u001b[0mx\u001b[0m\u001b[1;33m]\u001b[0m \u001b[1;33m=\u001b[0m \u001b[1;36m1\u001b[0m\u001b[1;33m\u001b[0m\u001b[0m\n\u001b[1;32m---> 39\u001b[1;33m         \u001b[1;32mif\u001b[0m\u001b[1;33m(\u001b[0m\u001b[0mnp\u001b[0m\u001b[1;33m.\u001b[0m\u001b[0mrandom\u001b[0m\u001b[1;33m.\u001b[0m\u001b[0mchoice\u001b[0m\u001b[1;33m(\u001b[0m\u001b[0mpick\u001b[0m\u001b[1;33m)\u001b[0m \u001b[1;33m==\u001b[0m \u001b[1;36m1\u001b[0m\u001b[1;33m)\u001b[0m\u001b[1;33m:\u001b[0m\u001b[1;33m\u001b[0m\u001b[0m\n\u001b[0m\u001b[0;32m     40\u001b[0m             \u001b[0mx\u001b[0m \u001b[1;33m=\u001b[0m \u001b[0mx\u001b[0m \u001b[1;33m-\u001b[0m \u001b[1;36m1\u001b[0m\u001b[1;33m\u001b[0m\u001b[0m\n\u001b[0;32m     41\u001b[0m         \u001b[1;32melse\u001b[0m\u001b[1;33m:\u001b[0m\u001b[1;33m\u001b[0m\u001b[0m\n",
      "\u001b[1;32mmtrand.pyx\u001b[0m in \u001b[0;36mmtrand.RandomState.choice (numpy/random/mtrand/mtrand.c:11702)\u001b[1;34m()\u001b[0m\n",
      "\u001b[1;31mValueError\u001b[0m: a must be non-empty"
     ]
    },
    {
     "data": {
      "text/plain": [
<<<<<<< HEAD
       "<matplotlib.figure.Figure at 0x7fd11c09c400>"
=======
       "<matplotlib.figure.Figure at 0x7fca70453be0>"
>>>>>>> experiments
      ]
     },
     "metadata": {},
     "output_type": "display_data"
    }
   ],
   "source": [
    "##Blue is destination, red is rider, bright red points are drivers##\n",
    "run(num_drivers = 2, num_riders = 3)"
   ]
  },
  {
   "cell_type": "code",
   "execution_count": null,
   "metadata": {
    "collapsed": true
   },
   "outputs": [],
   "source": []
  }
 ],
 "metadata": {
  "kernelspec": {
   "display_name": "Python 3",
   "language": "python",
   "name": "python3"
  },
  "language_info": {
   "codemirror_mode": {
    "name": "ipython",
    "version": 3
   },
   "file_extension": ".py",
   "mimetype": "text/x-python",
   "name": "python",
   "nbconvert_exporter": "python",
   "pygments_lexer": "ipython3",
   "version": "3.5.1"
  }
 },
 "nbformat": 4,
 "nbformat_minor": 0
}
