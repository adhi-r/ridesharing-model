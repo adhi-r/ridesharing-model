{
 "cells": [
  {
   "cell_type": "code",
   "execution_count": 1,
   "metadata": {
    "collapsed": true
   },
   "outputs": [],
   "source": [
    "import matplotlib.pyplot as plt\n",
    "%matplotlib inline\n",
    "import random \n",
    "import numpy as np\n",
    "from IPython.display import display, clear_output\n",
    "import time"
   ]
  },
  {
   "cell_type": "code",
   "execution_count": 2,
   "metadata": {
    "collapsed": true
   },
   "outputs": [],
   "source": [
    "class rider():\n",
    "    def __init__(self, x_dim, y_dim):\n",
    "        self.location = (x_dim, y_dim)\n",
    "        self.destination = ()\n",
    "        \n",
    "    def find_closest_available_driver():\n",
    "        \"\"\"\n",
    "        When the rider spawns, it calculates the distance between him and all drivers without a passenger,\n",
    "        and then chooses the closest one.\n",
    "        \"\"\"\n",
    "        \n",
    "    def give_driver_pickup_location():\n",
    "        \"\"\" \"\"\"\n",
    "        \n",
    "    def give_driver_destination():\n",
    "        \"\"\"\n",
    "        When the driver reaches the rider for pick up, tell the driver the rider's destination\n",
    "        (might be better suited as a function in driver class)\n",
    "        \"\"\"\n",
    "        \n",
    "    def measure_wait_time():\n",
    "        \"\"\"\n",
    "        Storing a value that starts at 0 and is incremented in every iteration. \n",
    "        Not keeping track of actual time, iterations as a proxy for time. (Keeps track of how many iterations the rider is \n",
    "        waiting for.)\n",
    "        \"\"\"\n",
    "    \n",
    "    def measure_ride_time():\n",
    "        \"\"\"\n",
    "        Same as wait time, but measuring pick-up to drop-off.\n",
    "        \"\"\""
   ]
  },
  {
   "cell_type": "code",
   "execution_count": 3,
   "metadata": {
    "collapsed": true
   },
   "outputs": [],
   "source": [
    "class driver():\n",
    "    \"\"\"Creates a driver capable of picking up riders and taking them to their destination. Drivers may only have 1 rider at a\n",
    "    time and drive their rider directly to their destination immediately.\"\"\"\n",
    "    def __init__(self, x_dim, y_dim):\n",
    "        \"\"\"Defines a driver whose default location is randomly located within the dimensions of the world and who doesn't\n",
    "        have a rider.\"\"\"\n",
    "        self.x = np.random.randint(0,x_dim)\n",
    "        self.y = np.random.randint(0,y_dim)\n",
    "        self.has_rider = False\n",
    "        \n",
    "    def move(self, rider, x_dim, y_dim, destination, chosen_rider = 0, closest=False):\n",
    "        \"\"\"\"\"\"\n",
    "        \n",
    "        \"If ???, ???\"\n",
    "        if closest == True:\n",
    "            self.drive_rider(destination = chosen_rider)\n",
    "        \n",
    "        \"If the driver has a rider, ???. Otherwise, search for a rider.\"\n",
    "        if self.has_rider == True:\n",
    "            self.drive_rider(destination=destination)\n",
    "        else:\n",
    "            self.search_for_rider(x_dim, y_dim)\n",
    "        \n",
    "        \"???\"\n",
    "        if rider[self.x, self.y] > 0:\n",
    "            rider[self.x, self.y] -= 10\n",
    "            self.has_rider = True\n",
    "    \n",
    "    def drive_rider(self, destination):\n",
    "        x = self.x\n",
    "        y = self.y\n",
    "        \n",
    "        if x == destination[0] and y == destination[1]:\n",
    "            has_rider = False;\n",
    "            return\n",
    "            \n",
    "        pick = np.zeros(x + y)\n",
    "        pick[0:x] = 1\n",
    "        if(np.random.choice(pick) == 1):\n",
    "            x = x - 1\n",
    "        else:\n",
    "            y = y - 1\n",
    "\n",
    "        if(x < 0):\n",
    "            x = 0\n",
    "        if(y < 0):\n",
    "            y = 0\n",
    "            \n",
    "        self.x = x\n",
    "        self.y = y\n",
    "        \n",
    "    def search_for_rider(self, x_dim, y_dim):\n",
    "        x = self.x\n",
    "        y = self.y\n",
    "        \n",
    "        directions = ['up', 'left', 'down', 'right']\n",
    "        #First check to see if there is a rider up and to the right.\n",
    "        g = [] #follow gradient\n",
    "        m  = [] \n",
    "        \n",
    "        distance = np.sqrt(self.x ** 2 + self.y ** 2)\n",
    "        \n",
    "\n",
    "        #pick a random direction.\n",
    "        grad = random.choice(directions)\n",
    "        \n",
    "\n",
    "        # move the driver\n",
    "        if(grad == 'up'):\n",
    "            y = y + 1\n",
    "        elif(grad == 'right'):\n",
    "            x = x + 1\n",
    "        elif(grad == 'down'):\n",
    "            y = y - 1\n",
    "        elif(grad == 'left'):\n",
    "            x = x - 1\n",
    "        else:\n",
    "            print(grad)\n",
    "            print(\"ERROR!!a!!!!!!!!!!\")\n",
    "\n",
    "        # Prevents driver from moving off the grid. \n",
    "        if(x < 0):\n",
    "            x = 0\n",
    "        if(y < 0):\n",
    "            y = 0\n",
    "        if(x > x_dim-1):\n",
    "            x = x_dim-1\n",
    "        if(y > y_dim-1):\n",
    "            y = y_dim-1\n",
    "        self.x = x\n",
    "        self.y = y\n",
    "        \n",
    "    \n",
    "        \n",
    "    def draw(self):\n",
    "        \"\"\"Plots the driver green if they have a rider, red if they don't.\"\"\"\n",
    "        color = 'r'\n",
    "        if (self.has_rider == True):\n",
    "            color = 'g'\n",
    "        plt.scatter(self.x, self.y, color=color)\n",
    "    "
   ]
  },
  {
   "cell_type": "code",
   "execution_count": 4,
   "metadata": {
    "collapsed": false
   },
   "outputs": [],
   "source": [
    "#x_dim = 70\n",
    "#y_dim = 30\n",
    "#num_drivers = 2\n",
    "#rider = np.zeros((70, 30))\n",
    "#x = np.random.randint(0,70)\n",
    "#y = np.random.randint(0,30)\n",
    "#rider[x, y] = 10\n",
    "#destination = [np.random.randint(0,70), np.random.randint(0,30)]\n",
    "#dist_new = ((destination[0]- x) ** 2 + (destination[1] - y ** 2)) ** .5\n",
    "#x = np.random.randint(0,x_dim)\n",
    "#if x == destination[0] and y == destination[1]:\n",
    "#    print(3)\n",
    "#close_driver = 0\n",
    "#drivers = [driver(x_dim,y_dim) for a in range(0,num_drivers)]\n",
    "\n",
    "#for a in drivers:\n",
    "    #close_driver = a\n",
    "#close_driver.move(rider = rider, x_dim=x_dim, y_dim=30, destination = destination)"
   ]
  },
  {
   "cell_type": "code",
   "execution_count": 5,
   "metadata": {
    "collapsed": false
   },
   "outputs": [],
   "source": [
    "def run(num_drivers = 2, num_riders = 1, x_dim = 70, y_dim = 30):\n",
    "    \"\"\"Creates a world of size x_dim by y_dim with the specified number of drivers and riders and runs a simulation in which\n",
    "    the drivers pick up riders and drop them off at their destinations.\"\"\"\n",
    "    \n",
    "    \n",
    "    \"\"\"Initializes an array for the riders and their destinations.\"\"\"\n",
    "    rider = np.zeros((x_dim,y_dim))\n",
    "\n",
    "    # Places the rider(s) and destination(s)\n",
    "    for i in range(num_riders):\n",
    "        r = np.random.randint(0,x_dim)\n",
    "        t = np.random.randint(0,y_dim)\n",
    "        rider[r, t] = 10\n",
    "        destination = np.random.randint(0,x_dim), np.random.randint(0,y_dim)\n",
    "        rider[destination] = 100\n",
    "    \n",
    "    # Creates a list of drivers.\n",
    "    drivers = [driver(x_dim,y_dim) for a in range(0,num_drivers)]\n",
    "\n",
    "    fig, ax = plt.subplots(figsize=(10,5))\n",
    "\n",
    "    #Main simulation loop\n",
    "    for i in range(0,100):\n",
    "        \n",
    "        #Assigns the driver closest to the rider as \"close_driver\"\n",
    "        dist = 10000\n",
    "        close_driver = 0\n",
    "        for a in drivers:\n",
    "            # Calculates \"dist\" the distance between the destination and the rider\n",
    "            dist_new = (((int(destination[0])- int(r)) ** 2) + ((int(destination[1]) - int(t)) ** 2)) ** .5           \n",
    "            if dist_new < dist:\n",
    "                dist = dist_new\n",
    "                close_driver = a\n",
    "                    \n",
    "        for a in drivers:\n",
    "            if a == close_driver:\n",
    "                a.move(rider = rider, x_dim=x_dim, y_dim=y_dim, destination=destination, chosen_rider = [r,t], closest = True)\n",
    "            else:\n",
    "                a.move(rider = rider, x_dim=x_dim, y_dim=y_dim, destination=destination)\n",
    "    \n",
    "\n",
    "        # Plots world\n",
    "        plt.imshow(rider.T, origin='lower', aspect='equal')\n",
    "        for a in range(0,num_drivers):\n",
    "            drivers[a].draw()\n",
    "\n",
    "        # Animaiton part (dosn't change)\n",
    "        clear_output(wait=True) # Clear output for dynamic display\n",
    "        display(fig)            # Reset display\n",
    "        fig.clear()             # Prevent overlapping and layered plots\n",
    "        time.sleep(0.0001)      # Sleep for a fraction of a second to allow animation to catch up\n"
   ]
  },
  {
   "cell_type": "code",
   "execution_count": 6,
   "metadata": {
    "collapsed": false,
    "scrolled": true
   },
   "outputs": [
    {
     "data": {
      "image/png": "[encoded data removed]",
      "text/plain": [
       "<matplotlib.figure.Figure at 0x7fb395310400>"
      ]
     },
     "metadata": {},
     "output_type": "display_data"
    },
    {
     "ename": "ValueError",
     "evalue": "a must be non-empty",
     "output_type": "error",
     "traceback": [
      "\u001b[1;31m---------------------------------------------------------------------------\u001b[0m",
      "\u001b[1;31mValueError\u001b[0m                                Traceback (most recent call last)",
      "\u001b[1;32m<ipython-input-6-92ee9cc98b49>\u001b[0m in \u001b[0;36m<module>\u001b[1;34m()\u001b[0m\n\u001b[0;32m      1\u001b[0m \u001b[1;31m##Blue is destination, red is rider, bright red points are drivers##\u001b[0m\u001b[1;33m\u001b[0m\u001b[1;33m\u001b[0m\u001b[0m\n\u001b[1;32m----> 2\u001b[1;33m \u001b[0mrun\u001b[0m\u001b[1;33m(\u001b[0m\u001b[0mnum_drivers\u001b[0m \u001b[1;33m=\u001b[0m \u001b[1;36m2\u001b[0m\u001b[1;33m,\u001b[0m \u001b[0mnum_riders\u001b[0m \u001b[1;33m=\u001b[0m \u001b[1;36m3\u001b[0m\u001b[1;33m)\u001b[0m\u001b[1;33m\u001b[0m\u001b[0m\n\u001b[0m",
      "\u001b[1;32m<ipython-input-5-efb85ba903a6>\u001b[0m in \u001b[0;36mrun\u001b[1;34m(num_drivers, num_riders, x_dim, y_dim)\u001b[0m\n\u001b[0;32m     35\u001b[0m         \u001b[1;32mfor\u001b[0m \u001b[0ma\u001b[0m \u001b[1;32min\u001b[0m \u001b[0mdrivers\u001b[0m\u001b[1;33m:\u001b[0m\u001b[1;33m\u001b[0m\u001b[0m\n\u001b[0;32m     36\u001b[0m             \u001b[1;32mif\u001b[0m \u001b[0ma\u001b[0m \u001b[1;33m==\u001b[0m \u001b[0mclose_driver\u001b[0m\u001b[1;33m:\u001b[0m\u001b[1;33m\u001b[0m\u001b[0m\n\u001b[1;32m---> 37\u001b[1;33m                 \u001b[0ma\u001b[0m\u001b[1;33m.\u001b[0m\u001b[0mmove\u001b[0m\u001b[1;33m(\u001b[0m\u001b[0mrider\u001b[0m \u001b[1;33m=\u001b[0m \u001b[0mrider\u001b[0m\u001b[1;33m,\u001b[0m \u001b[0mx_dim\u001b[0m\u001b[1;33m=\u001b[0m\u001b[0mx_dim\u001b[0m\u001b[1;33m,\u001b[0m \u001b[0my_dim\u001b[0m\u001b[1;33m=\u001b[0m\u001b[0my_dim\u001b[0m\u001b[1;33m,\u001b[0m \u001b[0mdestination\u001b[0m\u001b[1;33m=\u001b[0m\u001b[0mdestination\u001b[0m\u001b[1;33m,\u001b[0m \u001b[0mchosen_rider\u001b[0m \u001b[1;33m=\u001b[0m \u001b[1;33m[\u001b[0m\u001b[0mr\u001b[0m\u001b[1;33m,\u001b[0m\u001b[0mt\u001b[0m\u001b[1;33m]\u001b[0m\u001b[1;33m,\u001b[0m \u001b[0mclosest\u001b[0m \u001b[1;33m=\u001b[0m \u001b[1;32mTrue\u001b[0m\u001b[1;33m)\u001b[0m\u001b[1;33m\u001b[0m\u001b[0m\n\u001b[0m\u001b[0;32m     38\u001b[0m             \u001b[1;32melse\u001b[0m\u001b[1;33m:\u001b[0m\u001b[1;33m\u001b[0m\u001b[0m\n\u001b[0;32m     39\u001b[0m                 \u001b[0ma\u001b[0m\u001b[1;33m.\u001b[0m\u001b[0mmove\u001b[0m\u001b[1;33m(\u001b[0m\u001b[0mrider\u001b[0m \u001b[1;33m=\u001b[0m \u001b[0mrider\u001b[0m\u001b[1;33m,\u001b[0m \u001b[0mx_dim\u001b[0m\u001b[1;33m=\u001b[0m\u001b[0mx_dim\u001b[0m\u001b[1;33m,\u001b[0m \u001b[0my_dim\u001b[0m\u001b[1;33m=\u001b[0m\u001b[0my_dim\u001b[0m\u001b[1;33m,\u001b[0m \u001b[0mdestination\u001b[0m\u001b[1;33m=\u001b[0m\u001b[0mdestination\u001b[0m\u001b[1;33m)\u001b[0m\u001b[1;33m\u001b[0m\u001b[0m\n",
      "\u001b[1;32m<ipython-input-3-f545119a3bb7>\u001b[0m in \u001b[0;36mmove\u001b[1;34m(self, rider, x_dim, y_dim, destination, chosen_rider, closest)\u001b[0m\n\u001b[0;32m     14\u001b[0m         \u001b[1;34m\"If ???, ???\"\u001b[0m\u001b[1;33m\u001b[0m\u001b[0m\n\u001b[0;32m     15\u001b[0m         \u001b[1;32mif\u001b[0m \u001b[0mclosest\u001b[0m \u001b[1;33m==\u001b[0m \u001b[1;32mTrue\u001b[0m\u001b[1;33m:\u001b[0m\u001b[1;33m\u001b[0m\u001b[0m\n\u001b[1;32m---> 16\u001b[1;33m             \u001b[0mself\u001b[0m\u001b[1;33m.\u001b[0m\u001b[0mdrive_rider\u001b[0m\u001b[1;33m(\u001b[0m\u001b[0mdestination\u001b[0m \u001b[1;33m=\u001b[0m \u001b[0mchosen_rider\u001b[0m\u001b[1;33m)\u001b[0m\u001b[1;33m\u001b[0m\u001b[0m\n\u001b[0m\u001b[0;32m     17\u001b[0m \u001b[1;33m\u001b[0m\u001b[0m\n\u001b[0;32m     18\u001b[0m         \u001b[1;34m\"If the driver has a rider, ???. Otherwise, search for a rider.\"\u001b[0m\u001b[1;33m\u001b[0m\u001b[0m\n",
      "\u001b[1;32m<ipython-input-3-f545119a3bb7>\u001b[0m in \u001b[0;36mdrive_rider\u001b[1;34m(self, destination)\u001b[0m\n\u001b[0;32m     37\u001b[0m         \u001b[0mpick\u001b[0m \u001b[1;33m=\u001b[0m \u001b[0mnp\u001b[0m\u001b[1;33m.\u001b[0m\u001b[0mzeros\u001b[0m\u001b[1;33m(\u001b[0m\u001b[0mx\u001b[0m \u001b[1;33m+\u001b[0m \u001b[0my\u001b[0m\u001b[1;33m)\u001b[0m\u001b[1;33m\u001b[0m\u001b[0m\n\u001b[0;32m     38\u001b[0m         \u001b[0mpick\u001b[0m\u001b[1;33m[\u001b[0m\u001b[1;36m0\u001b[0m\u001b[1;33m:\u001b[0m\u001b[0mx\u001b[0m\u001b[1;33m]\u001b[0m \u001b[1;33m=\u001b[0m \u001b[1;36m1\u001b[0m\u001b[1;33m\u001b[0m\u001b[0m\n\u001b[1;32m---> 39\u001b[1;33m         \u001b[1;32mif\u001b[0m\u001b[1;33m(\u001b[0m\u001b[0mnp\u001b[0m\u001b[1;33m.\u001b[0m\u001b[0mrandom\u001b[0m\u001b[1;33m.\u001b[0m\u001b[0mchoice\u001b[0m\u001b[1;33m(\u001b[0m\u001b[0mpick\u001b[0m\u001b[1;33m)\u001b[0m \u001b[1;33m==\u001b[0m \u001b[1;36m1\u001b[0m\u001b[1;33m)\u001b[0m\u001b[1;33m:\u001b[0m\u001b[1;33m\u001b[0m\u001b[0m\n\u001b[0m\u001b[0;32m     40\u001b[0m             \u001b[0mx\u001b[0m \u001b[1;33m=\u001b[0m \u001b[0mx\u001b[0m \u001b[1;33m-\u001b[0m \u001b[1;36m1\u001b[0m\u001b[1;33m\u001b[0m\u001b[0m\n\u001b[0;32m     41\u001b[0m         \u001b[1;32melse\u001b[0m\u001b[1;33m:\u001b[0m\u001b[1;33m\u001b[0m\u001b[0m\n",
      "\u001b[1;32mmtrand.pyx\u001b[0m in \u001b[0;36mmtrand.RandomState.choice (numpy/random/mtrand/mtrand.c:11702)\u001b[1;34m()\u001b[0m\n",
      "\u001b[1;31mValueError\u001b[0m: a must be non-empty"
     ]
    },
    {
     "data": {
      "text/plain": [
       "<matplotlib.figure.Figure at 0x7fb395310400>"
      ]
     },
     "metadata": {},
     "output_type": "display_data"
    }
   ],
   "source": [
    "##Blue is destination, red is rider, bright red points are drivers##\n",
    "run(num_drivers = 2, num_riders = 3)"
   ]
  },
  {
   "cell_type": "code",
   "execution_count": null,
   "metadata": {
    "collapsed": true
   },
   "outputs": [],
   "source": []
  }
 ],
 "metadata": {
  "kernelspec": {
   "display_name": "Python 3",
   "language": "python",
   "name": "python3"
  },
  "language_info": {
   "codemirror_mode": {
    "name": "ipython",
    "version": 3
   },
   "file_extension": ".py",
   "mimetype": "text/x-python",
   "name": "python",
   "nbconvert_exporter": "python",
   "pygments_lexer": "ipython3",
   "version": "3.5.1"
  }
 },
 "nbformat": 4,
 "nbformat_minor": 0
}
