{
 "cells": [
  {
   "cell_type": "markdown",
   "metadata": {},
   "source": [
    "# Modeling Ridesharing Conditions Using ABM and OOP\n",
    "\n",
    "#### By: MacKenzie Dubay, Katrina Gensterblum, Adhi Rajaprabhakaran"
   ]
  },
  {
   "cell_type": "markdown",
   "metadata": {},
   "source": [
    "## _Outline_\n",
    "\n",
    "### 1. Motivation  \n",
    "* The idea, its inspiration, and its practical uses.  \n",
    "\n",
    "### 2. Objectives  \n",
    "* What we set out to accomplish with this model.  \n",
    "\n",
    "### 3. The Model  \n",
    "* How we used Agent Base Modeling and OOP to create a flexible model of Uber's operations.   \n",
    "\n",
    "### 4. The Experiments  \n",
    "* Varying Passengers\n",
    "* Varying Drivers  \n",
    "\n",
    "### 5. The Results\n",
    "\n",
    "### 6. The Potential\n",
    "------"
   ]
  },
  {
   "cell_type": "markdown",
   "metadata": {},
   "source": [
    "## 1. Motivation\n",
    "\n",
    "  Our project is about applying modeling techniques learned in class to a approximate a real life scenario. Our scenario is the operations of a ridesharing service. Ridesharing services refer to apps like Uber and Lyft, where one can use the app to request a ride from one point to another. Naturally, one of the key attributes of the product is user experience and convenience, so as to incline users to use the service more often. \n",
    "  \n",
    "  Arguably the most important quantifiable figures to this end are the cost of the ride and the time taken, both in getting picked up and in getting to the destination. In both metrics, lower is better for more usage, and the metric we chose to target is wait time, and how it can vary as the conditions of the real world vary.\n",
    "\n",
    "  The idea was inspired by Kevin Novak, MSU Alumnus and Head of Data Science at Uber Technologies Inc., and the talk he gave here at MSU. In his talk, he covered how Uber would gain insights from its data from operations and use them to improve the product. Since we don't have the actual data of Uber's rides to query, we can't actually work to solve the optimization problems that Uber themselves work on. What we can do, though, is make our own data with our own model, and run experiments on the model observe the effect of different conditions. \n",
    "  \n",
    "  Our solution is a very simplified version of the real world, so it won't actually predict what exactly will happen. What the experimentation will allow us to do is to observe the relationships between hypothetical conditions and outcomes, and extrapolate these observations to the real world."
   ]
  },
  {
   "cell_type": "markdown",
   "metadata": {},
   "source": [
    "## 2. Objectives\n",
    "\n",
    "Our first objective was to design and implement a simulation of Uber's ridesharing service. We wanted to utilize programming and modeling techniques learned in class to make the model flexible and easy to iterate upon should we want to add features and conduct different experiments.\n",
    "\n",
    "Secondly, we set out to apply experimental procedures to observe the effect of varying conditions on the behavior outcomes of the model. \n",
    "\n",
    "---"
   ]
  },
  {
   "cell_type": "markdown",
   "metadata": {},
   "source": [
    "## 3. The Model\n",
    "\n",
    "Ridesharing is the act of a driver with his or her own car picking up a passenger (or group of passengers) and taking the passenger to his or her destination in exchange for a fare charge. At any given time in any given area, there may be some arbritary numbers of drivers looking to get a fare and passengers. Every unique driver will be picking up their own unique passenger who has their own unique destination. Thus, this objective is well-suited to Agent Based Modeling (ABM) via Object Oriented Programming. We treated each driver and each passenger as its own agent using `class` objects, a technique that was introduced to us in class in the Ant Crawling Model."
   ]
  },
  {
   "cell_type": "markdown",
   "metadata": {},
   "source": [
    "### Important Assumptions and Simplifications\n",
    "\n",
    "* Assumption 1\n",
    "    * Explanation\n",
    "* Assumption 2\n",
    "    * Explanation\n",
    "* Assumption 3\n",
    "    * Explanation"
   ]
  },
  {
   "cell_type": "markdown",
   "metadata": {},
   "source": [
    "The `class` objects for the Rider and Driver agent can be found in `UberModel.py`. Let's take a look at them."
   ]
  },
  {
   "cell_type": "markdown",
   "metadata": {},
   "source": [
    "### The Driver"
   ]
  },
  {
   "cell_type": "code",
   "execution_count": 10,
   "metadata": {
    "collapsed": false
   },
   "outputs": [
    {
     "data": {
      "text/plain": [
       "['draw', 'move']"
      ]
     },
     "execution_count": 10,
     "metadata": {},
     "output_type": "execute_result"
    }
   ],
   "source": [
    "from UberModel import driver\n",
    "# list functions here, or below idk\n",
    "dir(driver)[-2:]"
   ]
  },
  {
   "cell_type": "markdown",
   "metadata": {},
   "source": [
    "#### **`driver.move()`:**  \n",
    "The `move` function contains the logic for how a driver will either reach a waiting rider or take a rider to her destination. The driver gets the pickup location and destination by pulling it from the rider object. It moves by incrementing the objects position in the array by one in an appropriate direction every iteration. \n",
    "\n",
    "#### **`driver.draw()`:**  \n",
    "The `draw` function simply adds the driver's new location as a scatterplot dot on the output graph after every iteration using `x` and `y` coordinates."
   ]
  },
  {
   "cell_type": "markdown",
   "metadata": {},
   "source": [
    "### The Rider"
   ]
  },
  {
   "cell_type": "code",
   "execution_count": 12,
   "metadata": {
    "collapsed": false
   },
   "outputs": [
    {
     "data": {
      "text/plain": [
       "['closest_available_driver', 'draw']"
      ]
     },
     "execution_count": 12,
     "metadata": {},
     "output_type": "execute_result"
    }
   ],
   "source": [
    "from UberModel import rider\n",
    "# list functions here, or below idk\n",
    "dir(rider)[-2:]"
   ]
  },
  {
   "cell_type": "markdown",
   "metadata": {},
   "source": [
    "#### **`rider.closest_available_driver()`:**  \n",
    "# Something something something.\n",
    "#### **`rider.draw()`:**  \n",
    "# Something"
   ]
  },
  {
   "cell_type": "markdown",
   "metadata": {},
   "source": [
    "### The Run Function"
   ]
  },
  {
   "cell_type": "code",
   "execution_count": 13,
   "metadata": {
    "collapsed": true
   },
   "outputs": [],
   "source": [
    "from UberModel import run"
   ]
  },
  {
   "cell_type": "markdown",
   "metadata": {},
   "source": [
    "#### **`UberModel.run(num_drivers = 2, rider_spawn_prob = 0.2, x_dim = 25, y_dim = 25, iterations = 100, vis = True)`:** \n",
    "The function `run` creates a world of size `x_dim` by `y_dim` with the specified number of drivers (red points) and if `vis = True` it runs a simulation with a visualization in which riders (yellow points) and their destinations (red splotches) spawn according to the given rider spawn probability, riders select the closest driver, and said driver picks up the rider and drops them off at their destination. Returns a the number of dropouts, and a list of wait times and ride times for the riders that were transported to their destination.\n",
    "\n",
    "An example of a visualization of one run of the model is as follows:"
   ]
  },
  {
   "cell_type": "code",
   "execution_count": 28,
   "metadata": {
    "collapsed": false
   },
   "outputs": [
    {
     "name": "stdout",
     "output_type": "stream",
     "text": [
      "Wait times were [4, 4, 8, 3, 3, 3, 4, 7, 5, 0, 0, 9, 8, 5, 6, 8, 17, 5, 10, 7, 9, 4, 14]\n",
      "Ride times were [9, 13, 5, 13, 15, 11, 13, 7, 14, 17, 32, 14, 13, 19, 24, 15, 4, 8, 14, 3, 13, 20, 17]\n",
      "Dropped riders: 2\n"
     ]
    }
   ],
   "source": [
    "#actually run one example of the model with animation\n",
    "from UberModel import run\n",
    "%matplotlib inline\n",
    "w, r, d = run(num_drivers = 20, rider_spawn_prob = 0.9, x_dim = 25, y_dim = 25, iterations = 50, vis = False)\n",
    "\n",
    "print(\"Wait times were\", w)\n",
    "print(\"Ride times were\", r)\n",
    "print(\"Dropped riders:\", d)"
   ]
  },
  {
   "cell_type": "code",
   "execution_count": 30,
   "metadata": {
    "collapsed": false
   },
   "outputs": [
    {
     "name": "stdout",
     "output_type": "stream",
     "text": [
      "[4, 4, 8, 3, 3, 3, 4, 7, 5, 0, 0, 9, 8, 5, 6, 8, 17, 5, 10, 7, 9, 4, 14]\n"
     ]
    },
    {
     "ename": "TypeError",
     "evalue": "object of type 'int' has no len()",
     "output_type": "error",
     "traceback": [
      "\u001b[1;31m---------------------------------------------------------------------------\u001b[0m",
      "\u001b[1;31mTypeError\u001b[0m                                 Traceback (most recent call last)",
      "\u001b[1;32m<ipython-input-30-fee7feb27f3d>\u001b[0m in \u001b[0;36m<module>\u001b[1;34m()\u001b[0m\n\u001b[0;32m      1\u001b[0m \u001b[0mprint\u001b[0m\u001b[1;33m(\u001b[0m\u001b[0mw\u001b[0m\u001b[1;33m)\u001b[0m\u001b[1;33m\u001b[0m\u001b[0m\n\u001b[1;32m----> 2\u001b[1;33m \u001b[0mlen\u001b[0m\u001b[1;33m(\u001b[0m\u001b[0md\u001b[0m\u001b[1;33m)\u001b[0m\u001b[1;33m\u001b[0m\u001b[0m\n\u001b[0m",
      "\u001b[1;31mTypeError\u001b[0m: object of type 'int' has no len()"
     ]
    }
   ],
   "source": [
    "print(w)\n",
    "len(d)"
   ]
  },
  {
   "cell_type": "markdown",
   "metadata": {},
   "source": [
    "---"
   ]
  },
  {
   "cell_type": "markdown",
   "metadata": {},
   "source": [
    "## The Experiments"
   ]
  },
  {
   "cell_type": "markdown",
   "metadata": {},
   "source": [
    "Due to the flexibility afforded to us by our OOP approach, we can easily run more than one experiment. In the first experiment, we will hold the amount of drivers constant and vary the probability a passenger will spawn as a proxy of 'busyness'. So the indpendent variable will be the busyness, and the dependent variables will be both wait time and ride time. In the second, we will hold the busyness constant and vary the amount of drivers available to serve. Here, the dependent variables stay the same but the independent variable will be the drivers. We think that observing the relationships between these variables will provide some rudimentary insight into how the real world works."
   ]
  },
  {
   "cell_type": "markdown",
   "metadata": {},
   "source": [
    "### Experimental procedure\n",
    "\n",
    "To combat confounding variables such as randomness, we will be iterating every model 500 increments to allow for a sufficient progression of the model to average out inconsistencies. Driver spawn points are chosen in the beginning and new drivers do not spawn, so the spacing of the initial spawn point may have a significant. So, for each step in the variation we will run the model 5 times to account for the randomness of driver spawn points.\n",
    "\n",
    "What follows is a generalized function for conducting experiments with this model. The default parameters are borrowed from the default parameters of `run()`. The new parameters, something, something, and something, will give the experimenter the ability to quickly and easily adjust the parameters of the experiment."
   ]
  },
  {
   "cell_type": "markdown",
   "metadata": {},
   "source": [
    "### The Experiment Function"
   ]
  },
  {
   "cell_type": "code",
   "execution_count": 2,
   "metadata": {
    "collapsed": true
   },
   "outputs": [],
   "source": [
    "from UberModel import experiment"
   ]
  },
  {
   "cell_type": "markdown",
   "metadata": {},
   "source": [
    "#### `experiment(independent_variable = '', IV_vals = [], x_dim = 25, y_dim = 25, iterations = 100, vis = False):`  \n",
    "\n",
    "The `experiment` function conducts the experiment of the given parameters on the UberModel, and returns the data of the experiment in a form that makes analysis and plotting easy.\n",
    "\n",
    "From the parameters of the experiment function, the experimenter can choose the independent variable of the experiment and the values of the independent variable tested. It also allows the experimenter to adjust the parameters of the `run()` function by passing the respective parameters in to be inherited by `run()`.\n",
    "\n",
    "When the experimenter sets `independent_variable = 'driver'` the function will then check to see if the users inputs for `IV_vals = []` make sense - the values must be positive integers as having partial or negative drivers is impossible. It then utilizes a `for` loop iterating over each value of `IV_vals` and collecting the data. It should be noted that `vis = False` by default so as to speed up the experimentation process - at this point we are not interested in the visuals.\n",
    "\n",
    "This function returns 4 objects: `IV_vals`, `wait_times_per_IV`, `ride_times_per_`, and `dropped_riders_per_IV`."
   ]
  },
  {
   "cell_type": "markdown",
   "metadata": {},
   "source": [
    "### Experiment 1: Varying busyness\n",
    "\n",
    "**Parameters of the experiment:**  \n",
    "* Independent Variable:  \n",
    "    * The **probability a rider spawns** on an iteration of the model, as a proxy of 'busyness'.  \n",
    "* Dependent Variables:  \n",
    "    * Rider wait time measured in iterations, as a proxy for minutes elapsed  \n",
    "    * Rider ride time measured likewise.\n",
    "* Controlled:  \n",
    "    * Number of drivers  \n",
    "    * Driver behavior  \n",
    "    * Rider behavior  \n",
    "    * Board size\n",
    "    \n",
    "#### Experiment 1 Hypothesis\n",
    "We hypothesize that wait times, ride times, and dropped riders will increase as rider spawn probability increases. It follows logically that as drivers have more jobs, the less available they are to riders and the longer they will have to wait."
   ]
  },
  {
   "cell_type": "code",
   "execution_count": 2,
   "metadata": {
    "collapsed": false
   },
   "outputs": [
    {
     "name": "stdout",
     "output_type": "stream",
     "text": [
      "IVV: [0.5, 0.6, 0.9]\n",
      "Waits: [9.0, 9.25, 8.722222222222223]\n",
      "Rides: [25.0, 20.25, 17.72222222222222]\n",
      "Drops: [20.0, 21.0, 28.0]\n"
     ]
    }
   ],
   "source": [
    "# Conducting experiment 1.\n",
    "from UberModel import experiment\n",
    "\n",
    "IV_vals, waits, rides, drops = experiment(independent_variable = 'rider', IV_vals = [.5,.6,.9], x_dim = 25, y_dim = 25, iterations = 50, vis = False)\n",
    "\n",
    "print(\"IVV:\", IV_vals)\n",
    "print(\"Waits:\", waits)\n",
    "print(\"Rides:\", rides)\n",
    "print(\"Drops:\", drops)"
   ]
  },
  {
   "cell_type": "code",
   "execution_count": 4,
   "metadata": {
    "collapsed": false
   },
   "outputs": [
    {
     "data": {
      "text/plain": [
       "[False, False, False]"
      ]
     },
     "execution_count": 4,
     "metadata": {},
     "output_type": "execute_result"
    }
   ],
   "source": [
    "[x > 1 or x <= 0 for x in [.2, .4, .6]]"
   ]
  },
  {
   "cell_type": "markdown",
   "metadata": {
    "collapsed": true
   },
   "source": [
    "### Experiment 2: Varying driver amount\n",
    "\n",
    "**Parameters of the experiment:**  \n",
    "* Independent Variable:  \n",
    "    * The **number of drivers** active from the beginning to the end of a run. \n",
    "* Dependent Variables:  \n",
    "    * Rider wait time measured in iterations, as a proxy for minutes elapsed.  \n",
    "    * Rider ride time measured likewise.\n",
    "* Controlled:  \n",
    "    * Number of drivers  \n",
    "    * Driver behavior  \n",
    "    * Rider behavior  \n",
    "    * Board size\n",
    "    \n",
    "#### Experiment 2 Hypothesis  \n",
    "We hypothesize that as driver amount increases rider wait time and rider will decrease. When there are more drivers spread across the board, drivers will be closer to riders more often. And as there are more drivers, there will need to be more passengers to occupy all of them, thus reducing rider drops."
   ]
  },
  {
   "cell_type": "markdown",
   "metadata": {
    "collapsed": true
   },
   "source": [
    "## Discussion of Results\n",
    "\n",
    "\n",
    "Something."
   ]
  },
  {
   "cell_type": "markdown",
   "metadata": {
    "collapsed": true
   },
   "source": [
    "## Potential Additions\n",
    "\n",
    "The potential of a simulation like this is extraordinary. When data science teams at Uber or Lyft are in deliberations as to whether or not they should try a new experiment, they could run the experiment on a simulation to help form a hyopthesis.\n",
    "\n",
    "So far we have only focused on the physical process of picking up and dropping off a passenger, but what about the financial side? Uber currently calculates the price of a fare with a several inputs, including an initial cost, distance covered, time elspased, and perhaps most notably, the real-time supply of drivers and demand of drivers. In basic economic principle, the price of a good is found as a function of supply and demand. As supply goes up, price goes down, and as demand goes up, price goes up. Uber leverages their precise data to accurately optimize a ride fare to maximize profit. **Using our model as a base, one could implement a rudimentary pricing algorithm and see how the cost of a fare responds to different condtions.**\n",
    "\n",
    "\n",
    "For example, in 2015, the Mayor of New York City, Bill de Blasio, moved to to regulate Uber in response to pressure from the Taxi industry. He wanted to hard-cap the amount of drivers Uber could have on the road. In response, Uber pushed a new feature out to their apps in NYC called the 'di Blasio' tab. When a user was waiting for their ride and clicked this tab, they were shown actual estimates and figures about the significantly increased wait time for their ride. The tab included a button to send an email to Mayor di Blasio stating that you stand against this regulation, and it worked as the Mayor eventually backed down. With our model, one could observe the relationship between a hard capped taxi limit and the increased wait time, and extrapolate it to the current real world data that they currently have. This way, they could **make an educated guess at the consequences of such an action without actually doing it.**\n",
    "\n",
    "Uber has also innovated on the traditional cab service by novel introducing services to such as on-demand carpooling. UberPOOL will optimize a driver's route to pick up multiple people in an area that are heading in the same general direction. 'An area' and 'general direction' are both vague terms, so how would data scientists at Uber figure out the optimal maximum areas that a driver would travel within to pick up a new rider? With a simulation, **they could model the effects of drivers going 1, 2, 5 miles out of their way to pick up an additional passenger.** How would that effect ride times and wait times? How does a driver choose in what order to drop off passengers to optimize efficiency?\n",
    "\n",
    "These are just a few of the potential features we could add to make the model more compelling and powerful. Luckily, by using programming paradigms such as OOP and Agent Based Modeling, we have created a base that will be easy to tweak and iterate upon. This kind of Agent Based model could serve as inspiration for other services where both the workforce and customer base is in flux with seasonality, such as Airbnb."
   ]
  },
  {
   "cell_type": "code",
   "execution_count": null,
   "metadata": {
    "collapsed": true
   },
   "outputs": [],
   "source": []
  }
 ],
 "metadata": {
  "kernelspec": {
   "display_name": "Python 3",
   "language": "python",
   "name": "python3"
  },
  "language_info": {
   "codemirror_mode": {
    "name": "ipython",
    "version": 3
   },
   "file_extension": ".py",
   "mimetype": "text/x-python",
   "name": "python",
   "nbconvert_exporter": "python",
   "pygments_lexer": "ipython3",
   "version": "3.5.1"
  }
 },
 "nbformat": 4,
 "nbformat_minor": 0
}
